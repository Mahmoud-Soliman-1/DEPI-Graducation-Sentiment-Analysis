{
 "cells": [
  {
   "cell_type": "code",
   "execution_count": 1,
   "id": "fd03da97",
   "metadata": {
    "id": "fd03da97"
   },
   "outputs": [],
   "source": [
    "import numpy as np\n",
    "import pandas as pd\n",
    "import matplotlib.pyplot as plt\n",
    "import seaborn as sns\n",
    "%matplotlib inline\n",
    "sns.set()"
   ]
  },
  {
   "cell_type": "code",
   "execution_count": 2,
   "id": "f86dcc27",
   "metadata": {},
   "outputs": [],
   "source": [
    "import warnings\n",
    "warnings.filterwarnings('ignore')"
   ]
  },
  {
   "cell_type": "markdown",
   "id": "cf5711b3",
   "metadata": {
    "id": "cf5711b3"
   },
   "source": [
    "### Restaurant Reviews | sentiment analysis of social media posts\n",
    " link for Data source : https://www.kaggle.com/code/maafermansour/resturant-reviews-for-beginners-10algo"
   ]
  },
  {
   "cell_type": "markdown",
   "id": "75fcf687",
   "metadata": {
    "id": "75fcf687"
   },
   "source": [
    "## importing and inspecting data"
   ]
  },
  {
   "cell_type": "code",
   "execution_count": null,
   "id": "hw9aTarnKC-6",
   "metadata": {
    "id": "hw9aTarnKC-6"
   },
   "outputs": [],
   "source": []
  },
  {
   "cell_type": "code",
   "execution_count": 3,
   "id": "d4c13fbc",
   "metadata": {
    "colab": {
     "base_uri": "https://localhost:8080/",
     "height": 423
    },
    "id": "d4c13fbc",
    "outputId": "3852a212-30e0-415a-b4fa-7957a092c64c"
   },
   "outputs": [
    {
     "data": {
      "text/html": [
       "<div>\n",
       "<style scoped>\n",
       "    .dataframe tbody tr th:only-of-type {\n",
       "        vertical-align: middle;\n",
       "    }\n",
       "\n",
       "    .dataframe tbody tr th {\n",
       "        vertical-align: top;\n",
       "    }\n",
       "\n",
       "    .dataframe thead th {\n",
       "        text-align: right;\n",
       "    }\n",
       "</style>\n",
       "<table border=\"1\" class=\"dataframe\">\n",
       "  <thead>\n",
       "    <tr style=\"text-align: right;\">\n",
       "      <th></th>\n",
       "      <th>Review</th>\n",
       "      <th>Liked</th>\n",
       "    </tr>\n",
       "  </thead>\n",
       "  <tbody>\n",
       "    <tr>\n",
       "      <th>0</th>\n",
       "      <td>Terrible experience, won't be coming back.</td>\n",
       "      <td>0.0</td>\n",
       "    </tr>\n",
       "    <tr>\n",
       "      <th>1</th>\n",
       "      <td>I had high hopes, but the food was really disa...</td>\n",
       "      <td>0.0</td>\n",
       "    </tr>\n",
       "    <tr>\n",
       "      <th>2</th>\n",
       "      <td>The food was absolutely amazing, I cherished it!</td>\n",
       "      <td>1.0</td>\n",
       "    </tr>\n",
       "    <tr>\n",
       "      <th>3</th>\n",
       "      <td>I can't wait to come back! Highly recommend.</td>\n",
       "      <td>1.0</td>\n",
       "    </tr>\n",
       "    <tr>\n",
       "      <th>4</th>\n",
       "      <td>Everything was just perfect, from the starters...</td>\n",
       "      <td>1.0</td>\n",
       "    </tr>\n",
       "    <tr>\n",
       "      <th>...</th>\n",
       "      <td>...</td>\n",
       "      <td>...</td>\n",
       "    </tr>\n",
       "    <tr>\n",
       "      <th>4176</th>\n",
       "      <td>I dressed up to be treated so rudely!</td>\n",
       "      <td>0.0</td>\n",
       "    </tr>\n",
       "    <tr>\n",
       "      <th>4177</th>\n",
       "      <td>It was probably dirt.</td>\n",
       "      <td>0.0</td>\n",
       "    </tr>\n",
       "    <tr>\n",
       "      <th>4178</th>\n",
       "      <td>Love this venue, hits the spot when I want som...</td>\n",
       "      <td>1.0</td>\n",
       "    </tr>\n",
       "    <tr>\n",
       "      <th>4179</th>\n",
       "      <td>I ordered the Lemon raspberry ice cocktail whi...</td>\n",
       "      <td>1.0</td>\n",
       "    </tr>\n",
       "    <tr>\n",
       "      <th>4180</th>\n",
       "      <td>The food sucked, which we expected but it suck...</td>\n",
       "      <td>0.0</td>\n",
       "    </tr>\n",
       "  </tbody>\n",
       "</table>\n",
       "<p>4181 rows × 2 columns</p>\n",
       "</div>"
      ],
      "text/plain": [
       "                                                 Review  Liked\n",
       "0            Terrible experience, won't be coming back.    0.0\n",
       "1     I had high hopes, but the food was really disa...    0.0\n",
       "2      The food was absolutely amazing, I cherished it!    1.0\n",
       "3          I can't wait to come back! Highly recommend.    1.0\n",
       "4     Everything was just perfect, from the starters...    1.0\n",
       "...                                                 ...    ...\n",
       "4176              I dressed up to be treated so rudely!    0.0\n",
       "4177                              It was probably dirt.    0.0\n",
       "4178  Love this venue, hits the spot when I want som...    1.0\n",
       "4179  I ordered the Lemon raspberry ice cocktail whi...    1.0\n",
       "4180  The food sucked, which we expected but it suck...    0.0\n",
       "\n",
       "[4181 rows x 2 columns]"
      ]
     },
     "execution_count": 3,
     "metadata": {},
     "output_type": "execute_result"
    }
   ],
   "source": [
    "data = pd.read_csv(r\"D:\\Ai\\DEPI\\Technical\\final project\\Final\\Updated_Restaurant_Reviews_Manual5000-.csv\")\n",
    "data"
   ]
  },
  {
   "cell_type": "code",
   "execution_count": 4,
   "id": "8f218b7c",
   "metadata": {
    "colab": {
     "base_uri": "https://localhost:8080/"
    },
    "id": "8f218b7c",
    "outputId": "f50c0041-4077-4ca8-8e3c-db2abe436d45"
   },
   "outputs": [
    {
     "name": "stdout",
     "output_type": "stream",
     "text": [
      "<class 'pandas.core.frame.DataFrame'>\n",
      "RangeIndex: 4181 entries, 0 to 4180\n",
      "Data columns (total 2 columns):\n",
      " #   Column  Non-Null Count  Dtype  \n",
      "---  ------  --------------  -----  \n",
      " 0   Review  3805 non-null   object \n",
      " 1   Liked   3809 non-null   float64\n",
      "dtypes: float64(1), object(1)\n",
      "memory usage: 65.5+ KB\n"
     ]
    }
   ],
   "source": [
    "data.info()"
   ]
  },
  {
   "cell_type": "code",
   "execution_count": 5,
   "id": "FVkf0ZzrKuKZ",
   "metadata": {
    "id": "FVkf0ZzrKuKZ"
   },
   "outputs": [
    {
     "data": {
      "text/plain": [
       "(4181, 2)"
      ]
     },
     "execution_count": 5,
     "metadata": {},
     "output_type": "execute_result"
    }
   ],
   "source": [
    "data.shape"
   ]
  },
  {
   "cell_type": "code",
   "execution_count": null,
   "id": "N3g5S474KB7q",
   "metadata": {
    "id": "N3g5S474KB7q"
   },
   "outputs": [],
   "source": []
  },
  {
   "cell_type": "code",
   "execution_count": null,
   "id": "7gk9m4weLLle",
   "metadata": {
    "id": "7gk9m4weLLle"
   },
   "outputs": [],
   "source": []
  },
  {
   "cell_type": "markdown",
   "id": "63e3b4b5",
   "metadata": {
    "id": "63e3b4b5"
   },
   "source": [
    "## Exploring data"
   ]
  },
  {
   "cell_type": "code",
   "execution_count": 6,
   "id": "251fbbd9",
   "metadata": {
    "colab": {
     "base_uri": "https://localhost:8080/",
     "height": 178
    },
    "id": "251fbbd9",
    "outputId": "93a7fb84-9fa8-4a2c-edfd-02e75eca2697"
   },
   "outputs": [
    {
     "data": {
      "text/plain": [
       "Liked\n",
       "1.0    1934\n",
       "0.0    1875\n",
       "Name: count, dtype: int64"
      ]
     },
     "execution_count": 6,
     "metadata": {},
     "output_type": "execute_result"
    }
   ],
   "source": [
    "data[\"Liked\"].value_counts()"
   ]
  },
  {
   "cell_type": "code",
   "execution_count": 7,
   "id": "8ecf1f4f",
   "metadata": {
    "colab": {
     "base_uri": "https://localhost:8080/",
     "height": 476
    },
    "id": "8ecf1f4f",
    "outputId": "a831d317-c5ff-4333-c464-6069d0a5aa10"
   },
   "outputs": [
    {
     "data": {
      "text/plain": [
       "<Axes: xlabel='Liked', ylabel='count'>"
      ]
     },
     "execution_count": 7,
     "metadata": {},
     "output_type": "execute_result"
    },
    {
     "data": {
      "image/png": "[encoded data removed]",
      "text/plain": [
       "<Figure size 640x480 with 1 Axes>"
      ]
     },
     "metadata": {},
     "output_type": "display_data"
    }
   ],
   "source": [
    "sns.countplot(x=data[\"Liked\"])"
   ]
  },
  {
   "cell_type": "code",
   "execution_count": 8,
   "id": "b5d11b6b",
   "metadata": {},
   "outputs": [
    {
     "data": {
      "text/plain": [
       "Review    376\n",
       "Liked     372\n",
       "dtype: int64"
      ]
     },
     "execution_count": 8,
     "metadata": {},
     "output_type": "execute_result"
    }
   ],
   "source": [
    "data.isna().sum()"
   ]
  },
  {
   "cell_type": "code",
   "execution_count": 9,
   "id": "93c8cefb",
   "metadata": {},
   "outputs": [
    {
     "data": {
      "text/plain": [
       "<Axes: >"
      ]
     },
     "execution_count": 9,
     "metadata": {},
     "output_type": "execute_result"
    },
    {
     "data": {
      "image/png": "[encoded data removed]",
      "text/plain": [
       "<Figure size 640x480 with 2 Axes>"
      ]
     },
     "metadata": {},
     "output_type": "display_data"
    }
   ],
   "source": [
    "sns.heatmap(data.isna())"
   ]
  },
  {
   "cell_type": "code",
   "execution_count": 10,
   "id": "8422611c",
   "metadata": {},
   "outputs": [],
   "source": [
    "data.dropna(inplace=True)"
   ]
  },
  {
   "cell_type": "code",
   "execution_count": 11,
   "id": "3ec4f91e",
   "metadata": {},
   "outputs": [
    {
     "data": {
      "text/plain": [
       "<Axes: >"
      ]
     },
     "execution_count": 11,
     "metadata": {},
     "output_type": "execute_result"
    },
    {
     "data": {
      "image/png": "[encoded data removed]",
      "text/plain": [
       "<Figure size 640x480 with 2 Axes>"
      ]
     },
     "metadata": {},
     "output_type": "display_data"
    }
   ],
   "source": [
    "sns.heatmap(data.isna())"
   ]
  },
  {
   "cell_type": "code",
   "execution_count": 12,
   "id": "da34ebdc",
   "metadata": {},
   "outputs": [
    {
     "data": {
      "text/plain": [
       "Review    0\n",
       "Liked     0\n",
       "dtype: int64"
      ]
     },
     "execution_count": 12,
     "metadata": {},
     "output_type": "execute_result"
    }
   ],
   "source": [
    "data.isna().sum()"
   ]
  },
  {
   "cell_type": "code",
   "execution_count": 13,
   "id": "418e31b7",
   "metadata": {},
   "outputs": [],
   "source": [
    "data.reset_index(drop=True, inplace=True)"
   ]
  },
  {
   "cell_type": "code",
   "execution_count": 14,
   "id": "02008a1c",
   "metadata": {},
   "outputs": [
    {
     "data": {
      "text/plain": [
       "(3711, 2)"
      ]
     },
     "execution_count": 14,
     "metadata": {},
     "output_type": "execute_result"
    }
   ],
   "source": [
    "data.shape"
   ]
  },
  {
   "cell_type": "code",
   "execution_count": 16,
   "id": "4136cab1",
   "metadata": {
    "id": "4136cab1"
   },
   "outputs": [],
   "source": [
    "data[\"count of letter\"]=data[\"Review\"].apply(len)"
   ]
  },
  {
   "cell_type": "code",
   "execution_count": 17,
   "id": "c90301dc",
   "metadata": {
    "colab": {
     "base_uri": "https://localhost:8080/",
     "height": 423
    },
    "id": "c90301dc",
    "outputId": "5ec5dfe2-bb8f-4700-f8ed-85d11a0421e0"
   },
   "outputs": [
    {
     "data": {
      "text/html": [
       "<div>\n",
       "<style scoped>\n",
       "    .dataframe tbody tr th:only-of-type {\n",
       "        vertical-align: middle;\n",
       "    }\n",
       "\n",
       "    .dataframe tbody tr th {\n",
       "        vertical-align: top;\n",
       "    }\n",
       "\n",
       "    .dataframe thead th {\n",
       "        text-align: right;\n",
       "    }\n",
       "</style>\n",
       "<table border=\"1\" class=\"dataframe\">\n",
       "  <thead>\n",
       "    <tr style=\"text-align: right;\">\n",
       "      <th></th>\n",
       "      <th>Review</th>\n",
       "      <th>Liked</th>\n",
       "      <th>count of letter</th>\n",
       "    </tr>\n",
       "  </thead>\n",
       "  <tbody>\n",
       "    <tr>\n",
       "      <th>0</th>\n",
       "      <td>Terrible experience, won't be coming back.</td>\n",
       "      <td>0.0</td>\n",
       "      <td>42</td>\n",
       "    </tr>\n",
       "    <tr>\n",
       "      <th>1</th>\n",
       "      <td>I had high hopes, but the food was really disa...</td>\n",
       "      <td>0.0</td>\n",
       "      <td>56</td>\n",
       "    </tr>\n",
       "    <tr>\n",
       "      <th>2</th>\n",
       "      <td>The food was absolutely amazing, I cherished it!</td>\n",
       "      <td>1.0</td>\n",
       "      <td>48</td>\n",
       "    </tr>\n",
       "    <tr>\n",
       "      <th>3</th>\n",
       "      <td>I can't wait to come back! Highly recommend.</td>\n",
       "      <td>1.0</td>\n",
       "      <td>44</td>\n",
       "    </tr>\n",
       "    <tr>\n",
       "      <th>4</th>\n",
       "      <td>Everything was just perfect, from the starters...</td>\n",
       "      <td>1.0</td>\n",
       "      <td>63</td>\n",
       "    </tr>\n",
       "    <tr>\n",
       "      <th>...</th>\n",
       "      <td>...</td>\n",
       "      <td>...</td>\n",
       "      <td>...</td>\n",
       "    </tr>\n",
       "    <tr>\n",
       "      <th>3706</th>\n",
       "      <td>I dressed up to be treated so rudely!</td>\n",
       "      <td>0.0</td>\n",
       "      <td>37</td>\n",
       "    </tr>\n",
       "    <tr>\n",
       "      <th>3707</th>\n",
       "      <td>It was probably dirt.</td>\n",
       "      <td>0.0</td>\n",
       "      <td>21</td>\n",
       "    </tr>\n",
       "    <tr>\n",
       "      <th>3708</th>\n",
       "      <td>Love this venue, hits the spot when I want som...</td>\n",
       "      <td>1.0</td>\n",
       "      <td>99</td>\n",
       "    </tr>\n",
       "    <tr>\n",
       "      <th>3709</th>\n",
       "      <td>I ordered the Lemon raspberry ice cocktail whi...</td>\n",
       "      <td>1.0</td>\n",
       "      <td>69</td>\n",
       "    </tr>\n",
       "    <tr>\n",
       "      <th>3710</th>\n",
       "      <td>The food sucked, which we expected but it suck...</td>\n",
       "      <td>0.0</td>\n",
       "      <td>82</td>\n",
       "    </tr>\n",
       "  </tbody>\n",
       "</table>\n",
       "<p>3711 rows × 3 columns</p>\n",
       "</div>"
      ],
      "text/plain": [
       "                                                 Review  Liked  \\\n",
       "0            Terrible experience, won't be coming back.    0.0   \n",
       "1     I had high hopes, but the food was really disa...    0.0   \n",
       "2      The food was absolutely amazing, I cherished it!    1.0   \n",
       "3          I can't wait to come back! Highly recommend.    1.0   \n",
       "4     Everything was just perfect, from the starters...    1.0   \n",
       "...                                                 ...    ...   \n",
       "3706              I dressed up to be treated so rudely!    0.0   \n",
       "3707                              It was probably dirt.    0.0   \n",
       "3708  Love this venue, hits the spot when I want som...    1.0   \n",
       "3709  I ordered the Lemon raspberry ice cocktail whi...    1.0   \n",
       "3710  The food sucked, which we expected but it suck...    0.0   \n",
       "\n",
       "      count of letter  \n",
       "0                  42  \n",
       "1                  56  \n",
       "2                  48  \n",
       "3                  44  \n",
       "4                  63  \n",
       "...               ...  \n",
       "3706               37  \n",
       "3707               21  \n",
       "3708               99  \n",
       "3709               69  \n",
       "3710               82  \n",
       "\n",
       "[3711 rows x 3 columns]"
      ]
     },
     "execution_count": 17,
     "metadata": {},
     "output_type": "execute_result"
    }
   ],
   "source": [
    "data"
   ]
  },
  {
   "cell_type": "code",
   "execution_count": 18,
   "id": "0f878742",
   "metadata": {
    "colab": {
     "base_uri": "https://localhost:8080/",
     "height": 110
    },
    "id": "0f878742",
    "outputId": "c96c0b39-f778-40df-9494-267ed45aefc8"
   },
   "outputs": [
    {
     "data": {
      "text/plain": [
       "'The problem I have is that they charge $11.99 for a sandwich that is no bigger than a Subway sub (which offers better and more amount of vegetables).'"
      ]
     },
     "execution_count": 18,
     "metadata": {},
     "output_type": "execute_result"
    }
   ],
   "source": [
    "data.iloc[data[\"count of letter\"].idxmax()][0]"
   ]
  },
  {
   "cell_type": "code",
   "execution_count": null,
   "id": "b94db350",
   "metadata": {
    "id": "b94db350"
   },
   "outputs": [],
   "source": []
  },
  {
   "cell_type": "code",
   "execution_count": 19,
   "id": "2d6abc7c",
   "metadata": {
    "colab": {
     "base_uri": "https://localhost:8080/",
     "height": 178
    },
    "id": "2d6abc7c",
    "outputId": "3507aae9-2705-4e13-80e0-c81ca04cd038"
   },
   "outputs": [],
   "source": [
    "from wordcloud import WordCloud\n"
   ]
  },
  {
   "cell_type": "code",
   "execution_count": 20,
   "id": "OU8P0pRoJewm",
   "metadata": {
    "id": "OU8P0pRoJewm"
   },
   "outputs": [
    {
     "data": {
      "image/png": "[encoded data removed]",
      "text/plain": [
       "<Figure size 1000x500 with 1 Axes>"
      ]
     },
     "metadata": {},
     "output_type": "display_data"
    }
   ],
   "source": [
    "all_reviews = ' '.join(data['Review'].dropna().astype(str))\n",
    "\n",
    "wordcloud = WordCloud(width=800, height=400, background_color='white', max_words=100, contour_color='black').generate(all_reviews)\n",
    "\n",
    "plt.figure(figsize=(10, 5))\n",
    "plt.imshow(wordcloud, interpolation='bilinear')\n",
    "plt.axis('off') \n",
    "plt.show()"
   ]
  },
  {
   "cell_type": "code",
   "execution_count": null,
   "id": "dd81c233",
   "metadata": {},
   "outputs": [],
   "source": []
  },
  {
   "cell_type": "code",
   "execution_count": null,
   "id": "W7KFw9JDJktG",
   "metadata": {
    "colab": {
     "base_uri": "https://localhost:8080/",
     "height": 178
    },
    "id": "W7KFw9JDJktG",
    "outputId": "653cba06-ab41-48ab-eeac-f3fa97c5daf6"
   },
   "outputs": [],
   "source": []
  },
  {
   "cell_type": "code",
   "execution_count": null,
   "id": "De_fq3adJmi6",
   "metadata": {
    "colab": {
     "base_uri": "https://localhost:8080/"
    },
    "id": "De_fq3adJmi6",
    "outputId": "a29cd4c5-8759-47a5-e857-b84f3616df19"
   },
   "outputs": [],
   "source": []
  },
  {
   "cell_type": "markdown",
   "id": "fdc2aa90",
   "metadata": {
    "id": "fdc2aa90"
   },
   "source": [
    "## pre-processing data (NLTK Text Data cleannig)"
   ]
  },
  {
   "cell_type": "code",
   "execution_count": 21,
   "id": "dcfc353b",
   "metadata": {
    "colab": {
     "base_uri": "https://localhost:8080/",
     "height": 36
    },
    "id": "dcfc353b",
    "outputId": "95b44bc6-f53f-4c0b-dfab-24e48320e5fb"
   },
   "outputs": [
    {
     "data": {
      "text/plain": [
       "\"Terrible experience, won't be coming back.\""
      ]
     },
     "execution_count": 21,
     "metadata": {},
     "output_type": "execute_result"
    }
   ],
   "source": [
    "data ['Review' ][0]"
   ]
  },
  {
   "cell_type": "code",
   "execution_count": null,
   "id": "2677d4ef",
   "metadata": {
    "id": "2677d4ef"
   },
   "outputs": [],
   "source": []
  },
  {
   "cell_type": "code",
   "execution_count": 22,
   "id": "c527cb9e-d203-4850-bedd-9295afcf9e2a",
   "metadata": {
    "id": "c527cb9e-d203-4850-bedd-9295afcf9e2a"
   },
   "outputs": [],
   "source": [
    "import nltk"
   ]
  },
  {
   "cell_type": "code",
   "execution_count": 23,
   "id": "1dc24f9f-5f92-4b32-a90d-a9678b3bd4c5",
   "metadata": {
    "id": "1dc24f9f-5f92-4b32-a90d-a9678b3bd4c5"
   },
   "outputs": [],
   "source": [
    "from nltk.corpus import stopwords"
   ]
  },
  {
   "cell_type": "code",
   "execution_count": 24,
   "id": "8eeee953-e2f9-48aa-9965-186f87581506",
   "metadata": {
    "colab": {
     "base_uri": "https://localhost:8080/"
    },
    "id": "8eeee953-e2f9-48aa-9965-186f87581506",
    "outputId": "358b1804-cd8e-4ba4-f7cf-c00b509641ba"
   },
   "outputs": [
    {
     "name": "stderr",
     "output_type": "stream",
     "text": [
      "[nltk_data] Downloading package stopwords to\n",
      "[nltk_data]     C:\\Users\\Soly\\AppData\\Roaming\\nltk_data...\n",
      "[nltk_data]   Package stopwords is already up-to-date!\n"
     ]
    },
    {
     "data": {
      "text/plain": [
       "True"
      ]
     },
     "execution_count": 24,
     "metadata": {},
     "output_type": "execute_result"
    }
   ],
   "source": [
    "nltk.download('stopwords')"
   ]
  },
  {
   "cell_type": "code",
   "execution_count": 25,
   "id": "a53b919e-5d3d-4ea8-8186-44755feb89fe",
   "metadata": {
    "colab": {
     "base_uri": "https://localhost:8080/"
    },
    "id": "a53b919e-5d3d-4ea8-8186-44755feb89fe",
    "outputId": "f26ecbdf-2e54-49c7-a866-18b0a749689b"
   },
   "outputs": [
    {
     "name": "stdout",
     "output_type": "stream",
     "text": [
      "['i', 'me', 'my', 'myself', 'we', 'our', 'ours', 'ourselves', 'you', \"you're\", \"you've\", \"you'll\", \"you'd\", 'your', 'yours', 'yourself', 'yourselves', 'he', 'him', 'his', 'himself', 'she', \"she's\", 'her', 'hers', 'herself', 'it', \"it's\", 'its', 'itself', 'they', 'them', 'their', 'theirs', 'themselves', 'what', 'which', 'who', 'whom', 'this', 'that', \"that'll\", 'these', 'those', 'am', 'is', 'are', 'was', 'were', 'be', 'been', 'being', 'have', 'has', 'had', 'having', 'do', 'does', 'did', 'doing', 'a', 'an', 'the', 'and', 'but', 'if', 'or', 'because', 'as', 'until', 'while', 'of', 'at', 'by', 'for', 'with', 'about', 'against', 'between', 'into', 'through', 'during', 'before', 'after', 'above', 'below', 'to', 'from', 'up', 'down', 'in', 'out', 'on', 'off', 'over', 'under', 'again', 'further', 'then', 'once', 'here', 'there', 'when', 'where', 'why', 'how', 'all', 'any', 'both', 'each', 'few', 'more', 'most', 'other', 'some', 'such', 'no', 'nor', 'not', 'only', 'own', 'same', 'so', 'than', 'too', 'very', 's', 't', 'can', 'will', 'just', 'don', \"don't\", 'should', \"should've\", 'now', 'd', 'll', 'm', 'o', 're', 've', 'y', 'ain', 'aren', \"aren't\", 'couldn', \"couldn't\", 'didn', \"didn't\", 'doesn', \"doesn't\", 'hadn', \"hadn't\", 'hasn', \"hasn't\", 'haven', \"haven't\", 'isn', \"isn't\", 'ma', 'mightn', \"mightn't\", 'mustn', \"mustn't\", 'needn', \"needn't\", 'shan', \"shan't\", 'shouldn', \"shouldn't\", 'wasn', \"wasn't\", 'weren', \"weren't\", 'won', \"won't\", 'wouldn', \"wouldn't\"]\n"
     ]
    }
   ],
   "source": [
    "print (stopwords.words('english'))"
   ]
  },
  {
   "cell_type": "code",
   "execution_count": 26,
   "id": "0b4674c6-776f-4a66-969c-d17549d3d573",
   "metadata": {
    "colab": {
     "base_uri": "https://localhost:8080/",
     "height": 36
    },
    "id": "0b4674c6-776f-4a66-969c-d17549d3d573",
    "outputId": "debe184b-db00-489e-91f7-5388dfed8933"
   },
   "outputs": [
    {
     "data": {
      "text/plain": [
       "\"Terrible experience, won't be coming back.\""
      ]
     },
     "execution_count": 26,
     "metadata": {},
     "output_type": "execute_result"
    }
   ],
   "source": [
    "s = data ['Review' ][0]\n",
    "s"
   ]
  },
  {
   "cell_type": "code",
   "execution_count": 27,
   "id": "921cb1cc-c89b-48cb-a736-fa70ec817158",
   "metadata": {
    "colab": {
     "base_uri": "https://localhost:8080/",
     "height": 36
    },
    "id": "921cb1cc-c89b-48cb-a736-fa70ec817158",
    "outputId": "385e3726-6aff-4e6b-d6f8-c6be8c36650e"
   },
   "outputs": [
    {
     "data": {
      "text/plain": [
       "'Terrible experience  won t be coming back '"
      ]
     },
     "execution_count": 27,
     "metadata": {},
     "output_type": "execute_result"
    }
   ],
   "source": [
    "import re\n",
    "s =re.sub('[^a-zA-Z]',\" \",s)\n",
    "s"
   ]
  },
  {
   "cell_type": "code",
   "execution_count": 28,
   "id": "f94244d8-92d8-4586-9c00-73a662e93fed",
   "metadata": {
    "colab": {
     "base_uri": "https://localhost:8080/",
     "height": 36
    },
    "id": "f94244d8-92d8-4586-9c00-73a662e93fed",
    "outputId": "e0b1203d-c779-42e9-fd93-e329a6042b85"
   },
   "outputs": [
    {
     "data": {
      "text/plain": [
       "'terrible experience  won t be coming back '"
      ]
     },
     "execution_count": 28,
     "metadata": {},
     "output_type": "execute_result"
    }
   ],
   "source": [
    "s = s.lower()\n",
    "s"
   ]
  },
  {
   "cell_type": "code",
   "execution_count": 29,
   "id": "93c37e2d-45af-4c02-b9de-bd89b87c5223",
   "metadata": {
    "colab": {
     "base_uri": "https://localhost:8080/"
    },
    "id": "93c37e2d-45af-4c02-b9de-bd89b87c5223",
    "outputId": "1d782d82-8a20-486b-b456-36b58a401a03"
   },
   "outputs": [
    {
     "data": {
      "text/plain": [
       "['terrible', 'experience', 'won', 't', 'be', 'coming', 'back']"
      ]
     },
     "execution_count": 29,
     "metadata": {},
     "output_type": "execute_result"
    }
   ],
   "source": [
    "s = s.split()\n",
    "s"
   ]
  },
  {
   "cell_type": "code",
   "execution_count": 30,
   "id": "c0670e03-4354-43cc-90b0-0e2cf5855ef2",
   "metadata": {
    "colab": {
     "base_uri": "https://localhost:8080/"
    },
    "id": "c0670e03-4354-43cc-90b0-0e2cf5855ef2",
    "outputId": "7af22a45-265e-49c3-a4cc-a87185abbfac"
   },
   "outputs": [
    {
     "data": {
      "text/plain": [
       "['terrible', 'experience', 'coming', 'back']"
      ]
     },
     "execution_count": 30,
     "metadata": {},
     "output_type": "execute_result"
    }
   ],
   "source": [
    "temp = []\n",
    "\n",
    "for word  in s:\n",
    "    if word not in stopwords.words('english'):\n",
    "        temp.append(word)\n",
    "\n",
    "temp"
   ]
  },
  {
   "cell_type": "code",
   "execution_count": 31,
   "id": "f6591fda-0eb5-451c-8e3f-be1d501656fb",
   "metadata": {
    "colab": {
     "base_uri": "https://localhost:8080/"
    },
    "id": "f6591fda-0eb5-451c-8e3f-be1d501656fb",
    "outputId": "02903563-b16c-40e7-ba9d-8462101c35ea"
   },
   "outputs": [
    {
     "data": {
      "text/plain": [
       "['terrible', 'experience', 'coming', 'back']"
      ]
     },
     "execution_count": 31,
     "metadata": {},
     "output_type": "execute_result"
    }
   ],
   "source": [
    "[ word for word in s if word not in stopwords.words('english')]"
   ]
  },
  {
   "cell_type": "code",
   "execution_count": 32,
   "id": "9b6a1ffe-9738-4119-aab3-0a8fbf06e1ac",
   "metadata": {
    "colab": {
     "base_uri": "https://localhost:8080/",
     "height": 36
    },
    "id": "9b6a1ffe-9738-4119-aab3-0a8fbf06e1ac",
    "outputId": "63927add-434f-4010-a7c9-79ac082b36bf"
   },
   "outputs": [
    {
     "data": {
      "text/plain": [
       "'terrible experience coming back'"
      ]
     },
     "execution_count": 32,
     "metadata": {},
     "output_type": "execute_result"
    }
   ],
   "source": [
    "s = ' '.join(temp)\n",
    "s"
   ]
  },
  {
   "cell_type": "code",
   "execution_count": null,
   "id": "f969cd25-cc18-4c02-b215-d572d43465ac",
   "metadata": {
    "id": "f969cd25-cc18-4c02-b215-d572d43465ac"
   },
   "outputs": [],
   "source": []
  },
  {
   "cell_type": "code",
   "execution_count": null,
   "id": "8385c735-c6d9-4a5a-b12f-7afd4630d206",
   "metadata": {
    "id": "8385c735-c6d9-4a5a-b12f-7afd4630d206"
   },
   "outputs": [],
   "source": []
  },
  {
   "cell_type": "code",
   "execution_count": null,
   "id": "4b446ac9-b0e2-4198-98d5-1a46ef5e3c84",
   "metadata": {
    "colab": {
     "base_uri": "https://localhost:8080/",
     "height": 36
    },
    "id": "4b446ac9-b0e2-4198-98d5-1a46ef5e3c84",
    "outputId": "d92ba81a-e5b2-4069-9b16-f9f5ce8392b3"
   },
   "outputs": [],
   "source": []
  },
  {
   "cell_type": "code",
   "execution_count": 33,
   "id": "58c6273f-6972-4494-b542-c4740a8232c8",
   "metadata": {
    "id": "58c6273f-6972-4494-b542-c4740a8232c8"
   },
   "outputs": [],
   "source": [
    "from sklearn.feature_extraction.text import CountVectorizer"
   ]
  },
  {
   "cell_type": "code",
   "execution_count": 34,
   "id": "fb40ba13-1ba3-4253-894f-6d9dd3940716",
   "metadata": {
    "id": "fb40ba13-1ba3-4253-894f-6d9dd3940716"
   },
   "outputs": [],
   "source": [
    "cv = CountVectorizer()"
   ]
  },
  {
   "cell_type": "code",
   "execution_count": 35,
   "id": "4941233a-e2a9-4839-88c2-14b72624a176",
   "metadata": {
    "colab": {
     "base_uri": "https://localhost:8080/"
    },
    "id": "4941233a-e2a9-4839-88c2-14b72624a176",
    "outputId": "805b81bf-29de-4a62-8f59-72d6049d2529"
   },
   "outputs": [
    {
     "data": {
      "text/plain": [
       "array([[0, 0, 0, 1],\n",
       "       [0, 0, 1, 0],\n",
       "       [0, 1, 0, 0],\n",
       "       [1, 0, 0, 0]], dtype=int64)"
      ]
     },
     "execution_count": 35,
     "metadata": {},
     "output_type": "execute_result"
    }
   ],
   "source": [
    "cv.fit_transform(s.split()).toarray()"
   ]
  },
  {
   "cell_type": "code",
   "execution_count": 36,
   "id": "fd2c2a77-0ea5-4e51-8c68-c0b99f03e212",
   "metadata": {
    "colab": {
     "base_uri": "https://localhost:8080/"
    },
    "id": "fd2c2a77-0ea5-4e51-8c68-c0b99f03e212",
    "outputId": "f57a48d4-3576-4554-b496-dd332dbd316d"
   },
   "outputs": [
    {
     "data": {
      "text/plain": [
       "['terrible experience coming back',\n",
       " 'high hopes food really disappointing',\n",
       " 'food absolutely amazing cherished',\n",
       " 'wait come back highly recommend',\n",
       " 'everything perfect starters desserts',\n",
       " 'terrible experience coming back',\n",
       " 'suggest restaurant',\n",
       " 'food absolutely amazing adored',\n",
       " 'food overpriced underwhelming',\n",
       " 'terrible experience coming back',\n",
       " 'cozy place delicious food',\n",
       " 'suggest restaurant',\n",
       " 'staff rude atmosphere uninviting',\n",
       " 'portions small taste subpar',\n",
       " 'everything perfect starters desserts',\n",
       " 'good experience place dirty poorly managed',\n",
       " 'food absolutely amazing loved',\n",
       " 'high hopes food really disappointing',\n",
       " 'everything perfect starters desserts',\n",
       " 'food overpriced underwhelming',\n",
       " 'best dining experience long time',\n",
       " 'suggest restaurant',\n",
       " 'terrible experience coming back',\n",
       " 'good experience place dirty poorly managed',\n",
       " 'waited hour food worth',\n",
       " 'definitely one favorite spots city',\n",
       " 'portions small taste subpar',\n",
       " 'way noisy enjoy meal',\n",
       " 'food absolutely amazing loved',\n",
       " 'service impeccable atmosphere perfect',\n",
       " 'food overpriced underwhelming',\n",
       " 'cozy place delicious food',\n",
       " 'food absolutely amazing loved',\n",
       " 'food overpriced underwhelming',\n",
       " 'food overpriced underwhelming',\n",
       " 'service extremely slow disappointed',\n",
       " 'amazing ambiance staff friendly',\n",
       " 'wait come back highly recommend',\n",
       " 'way noisy enjoy meal',\n",
       " 'way noisy enjoy meal',\n",
       " 'good experience place dirty poorly managed',\n",
       " 'best dining experience long time',\n",
       " 'food overpriced underwhelming',\n",
       " 'amazing ambiance staff friendly',\n",
       " 'amazing ambiance staff friendly',\n",
       " 'flavors incredible presentation beautiful',\n",
       " 'staff rude atmosphere uninviting',\n",
       " 'cozy place delicious food',\n",
       " 'food overpriced underwhelming',\n",
       " 'definitely one favorite spots city',\n",
       " 'wait come back highly recommend',\n",
       " 'service extremely slow disappointed',\n",
       " 'like food bland cold',\n",
       " 'best dining experience long time',\n",
       " 'way noisy enjoy meal',\n",
       " 'way noisy enjoy meal',\n",
       " 'portions small taste subpar',\n",
       " 'flavors incredible presentation beautiful',\n",
       " 'high hopes food really disappointing',\n",
       " 'portions small taste subpar',\n",
       " 'portions small taste subpar',\n",
       " 'definitely one favorite spots city',\n",
       " 'flavors incredible presentation beautiful',\n",
       " 'great value money portions generous',\n",
       " 'good experience place dirty poorly managed',\n",
       " 'like food bland cold',\n",
       " 'cozy place delicious food',\n",
       " 'waited hour food worth',\n",
       " 'great value money portions generous',\n",
       " 'amazing ambiance staff friendly',\n",
       " 'definitely one favorite spots city',\n",
       " 'staff rude atmosphere uninviting',\n",
       " 'amazing ambiance staff friendly',\n",
       " 'cozy place delicious food',\n",
       " 'food overpriced underwhelming',\n",
       " 'staff rude atmosphere uninviting',\n",
       " 'good experience place dirty poorly managed',\n",
       " 'food absolutely amazing loved',\n",
       " 'amazing ambiance staff friendly',\n",
       " 'service impeccable atmosphere perfect',\n",
       " 'flavors incredible presentation beautiful',\n",
       " 'great value money portions generous',\n",
       " 'food overpriced underwhelming',\n",
       " 'amazing ambiance staff friendly',\n",
       " 'wait come back highly recommend',\n",
       " 'high hopes food really disappointing',\n",
       " 'waited hour food worth',\n",
       " 'flavors incredible presentation beautiful',\n",
       " 'like food bland cold',\n",
       " 'flavors incredible presentation beautiful',\n",
       " 'best dining experience long time',\n",
       " 'wait come back highly recommend',\n",
       " 'staff rude atmosphere uninviting',\n",
       " 'portions small taste subpar',\n",
       " 'way noisy enjoy meal',\n",
       " 'cozy place delicious food',\n",
       " 'food overpriced underwhelming',\n",
       " 'portions small taste subpar',\n",
       " 'definitely one favorite spots city',\n",
       " 'best dining experience long time',\n",
       " 'portions small taste subpar',\n",
       " 'terrible experience coming back',\n",
       " 'portions small taste subpar',\n",
       " 'terrible experience coming back',\n",
       " 'waited hour food worth',\n",
       " 'amazing ambiance staff friendly',\n",
       " 'service extremely slow disappointed',\n",
       " 'terrible experience coming back',\n",
       " 'food overpriced underwhelming',\n",
       " 'definitely one favorite spots city',\n",
       " 'good experience place dirty poorly managed',\n",
       " 'wait come back highly recommend',\n",
       " 'way noisy enjoy meal',\n",
       " 'good experience place dirty poorly managed',\n",
       " 'best dining experience long time',\n",
       " 'flavors incredible presentation beautiful',\n",
       " 'food absolutely amazing loved',\n",
       " 'amazing ambiance staff friendly',\n",
       " 'everything perfect starters desserts',\n",
       " 'flavors incredible presentation beautiful',\n",
       " 'definitely one favorite spots city',\n",
       " 'service extremely slow disappointed',\n",
       " 'food overpriced underwhelming',\n",
       " 'great value money portions generous',\n",
       " 'good experience place dirty poorly managed',\n",
       " 'definitely one favorite spots city',\n",
       " 'food absolutely amazing loved',\n",
       " 'good experience place dirty poorly managed',\n",
       " 'flavors incredible presentation beautiful',\n",
       " 'amazing ambiance staff friendly',\n",
       " 'high hopes food really disappointing',\n",
       " 'food absolutely amazing loved',\n",
       " 'like food bland cold',\n",
       " 'great value money portions generous',\n",
       " 'flavors incredible presentation beautiful',\n",
       " 'service impeccable atmosphere perfect',\n",
       " 'service impeccable atmosphere perfect',\n",
       " 'best dining experience long time',\n",
       " 'cozy place delicious food',\n",
       " 'best dining experience long time',\n",
       " 'flavors incredible presentation beautiful',\n",
       " 'like food bland cold',\n",
       " 'best dining experience long time',\n",
       " 'best dining experience long time',\n",
       " 'cozy place delicious food',\n",
       " 'waited hour food worth',\n",
       " 'high hopes food really disappointing',\n",
       " 'terrible experience coming back',\n",
       " 'waited hour food worth',\n",
       " 'food overpriced underwhelming',\n",
       " 'service extremely slow disappointed',\n",
       " 'terrible experience coming back',\n",
       " 'everything perfect starters desserts',\n",
       " 'high hopes food really disappointing',\n",
       " 'cozy place delicious food',\n",
       " 'way noisy enjoy meal',\n",
       " 'everything perfect starters desserts',\n",
       " 'wait come back highly recommend',\n",
       " 'way noisy enjoy meal',\n",
       " 'everything perfect starters desserts',\n",
       " 'waited hour food worth',\n",
       " 'good experience place dirty poorly managed',\n",
       " 'best dining experience long time',\n",
       " 'portions small taste subpar',\n",
       " 'wait come back highly recommend',\n",
       " 'everything perfect starters desserts',\n",
       " 'terrible experience coming back',\n",
       " 'staff rude atmosphere uninviting',\n",
       " 'staff rude atmosphere uninviting',\n",
       " 'high hopes food really disappointing',\n",
       " 'cozy place delicious food',\n",
       " 'way noisy enjoy meal',\n",
       " 'staff rude atmosphere uninviting',\n",
       " 'like food bland cold',\n",
       " 'great value money portions generous',\n",
       " 'like food bland cold',\n",
       " 'cozy place delicious food',\n",
       " 'food absolutely amazing loved',\n",
       " 'high hopes food really disappointing',\n",
       " 'flavors incredible presentation beautiful',\n",
       " 'staff rude atmosphere uninviting',\n",
       " 'service extremely slow disappointed',\n",
       " 'waited hour food worth',\n",
       " 'food overpriced underwhelming',\n",
       " 'cozy place delicious food',\n",
       " 'staff rude atmosphere uninviting',\n",
       " 'food absolutely amazing loved',\n",
       " 'best dining experience long time',\n",
       " 'great value money portions generous',\n",
       " 'service extremely slow disappointed',\n",
       " 'cozy place delicious food',\n",
       " 'food overpriced underwhelming',\n",
       " 'terrible experience coming back',\n",
       " 'best dining experience long time',\n",
       " 'great value money portions generous',\n",
       " 'cozy place delicious food',\n",
       " 'food absolutely amazing loved',\n",
       " 'definitely one favorite spots city',\n",
       " 'wait come back highly recommend',\n",
       " 'way noisy enjoy meal',\n",
       " 'best dining experience long time',\n",
       " 'way noisy enjoy meal',\n",
       " 'service extremely slow disappointed',\n",
       " 'service impeccable atmosphere perfect',\n",
       " 'service impeccable atmosphere perfect',\n",
       " 'waited hour food worth',\n",
       " 'portions small taste subpar',\n",
       " 'definitely one favorite spots city',\n",
       " 'wait come back highly recommend',\n",
       " 'portions small taste subpar',\n",
       " 'waited hour food worth',\n",
       " 'terrible experience coming back',\n",
       " 'definitely one favorite spots city',\n",
       " 'food absolutely amazing loved',\n",
       " 'terrible experience coming back',\n",
       " 'like food bland cold',\n",
       " 'amazing ambiance staff friendly',\n",
       " 'amazing ambiance staff friendly',\n",
       " 'way noisy enjoy meal',\n",
       " 'best dining experience long time',\n",
       " 'staff rude atmosphere uninviting',\n",
       " 'portions small taste subpar',\n",
       " 'everything perfect starters desserts',\n",
       " 'service extremely slow disappointed',\n",
       " 'portions small taste subpar',\n",
       " 'wait come back highly recommend',\n",
       " 'food absolutely amazing loved',\n",
       " 'food overpriced underwhelming',\n",
       " 'everything perfect starters desserts',\n",
       " 'service extremely slow disappointed',\n",
       " 'cozy place delicious food',\n",
       " 'portions small taste subpar',\n",
       " 'service impeccable atmosphere perfect',\n",
       " 'flavors incredible presentation beautiful',\n",
       " 'cozy place delicious food',\n",
       " 'flavors incredible presentation beautiful',\n",
       " 'like food bland cold',\n",
       " 'cozy place delicious food',\n",
       " 'food absolutely amazing loved',\n",
       " 'food absolutely amazing loved',\n",
       " 'amazing ambiance staff friendly',\n",
       " 'terrible experience coming back',\n",
       " 'flavors incredible presentation beautiful',\n",
       " 'food overpriced underwhelming',\n",
       " 'waited hour food worth',\n",
       " 'best dining experience long time',\n",
       " 'way noisy enjoy meal',\n",
       " 'terrible experience coming back',\n",
       " 'way noisy enjoy meal',\n",
       " 'portions small taste subpar',\n",
       " 'cozy place delicious food',\n",
       " 'food absolutely amazing loved',\n",
       " 'high hopes food really disappointing',\n",
       " 'food absolutely amazing loved',\n",
       " 'definitely one favorite spots city',\n",
       " 'great value money portions generous',\n",
       " 'waited hour food worth',\n",
       " 'great value money portions generous',\n",
       " 'food absolutely amazing loved',\n",
       " 'definitely one favorite spots city',\n",
       " 'good experience place dirty poorly managed',\n",
       " 'best dining experience long time',\n",
       " 'terrible experience coming back',\n",
       " 'food overpriced underwhelming',\n",
       " 'flavors incredible presentation beautiful',\n",
       " 'like food bland cold',\n",
       " 'terrible experience coming back',\n",
       " 'service impeccable atmosphere perfect',\n",
       " 'high hopes food really disappointing',\n",
       " 'amazing ambiance staff friendly',\n",
       " 'food overpriced underwhelming',\n",
       " 'portions small taste subpar',\n",
       " 'best dining experience long time',\n",
       " 'terrible experience coming back',\n",
       " 'portions small taste subpar',\n",
       " 'like food bland cold',\n",
       " 'cozy place delicious food',\n",
       " 'flavors incredible presentation beautiful',\n",
       " 'service impeccable atmosphere perfect',\n",
       " 'definitely one favorite spots city',\n",
       " 'great value money portions generous',\n",
       " 'staff rude atmosphere uninviting',\n",
       " 'food overpriced underwhelming',\n",
       " 'best dining experience long time',\n",
       " 'flavors incredible presentation beautiful',\n",
       " 'definitely one favorite spots city',\n",
       " 'best dining experience long time',\n",
       " 'cozy place delicious food',\n",
       " 'food overpriced underwhelming',\n",
       " 'like food bland cold',\n",
       " 'service impeccable atmosphere perfect',\n",
       " 'terrible experience coming back',\n",
       " 'portions small taste subpar',\n",
       " 'food absolutely amazing loved',\n",
       " 'amazing ambiance staff friendly',\n",
       " 'waited hour food worth',\n",
       " 'best dining experience long time',\n",
       " 'waited hour food worth',\n",
       " 'great value money portions generous',\n",
       " 'flavors incredible presentation beautiful',\n",
       " 'service impeccable atmosphere perfect',\n",
       " 'way noisy enjoy meal',\n",
       " 'cozy place delicious food',\n",
       " 'wait come back highly recommend',\n",
       " 'service extremely slow disappointed',\n",
       " 'everything perfect starters desserts',\n",
       " 'good experience place dirty poorly managed',\n",
       " 'food absolutely amazing loved',\n",
       " 'flavors incredible presentation beautiful',\n",
       " 'definitely one favorite spots city',\n",
       " 'service extremely slow disappointed',\n",
       " 'definitely one favorite spots city',\n",
       " 'good experience place dirty poorly managed',\n",
       " 'service extremely slow disappointed',\n",
       " 'amazing ambiance staff friendly',\n",
       " 'amazing ambiance staff friendly',\n",
       " 'high hopes food really disappointing',\n",
       " 'amazing ambiance staff friendly',\n",
       " 'like food bland cold',\n",
       " 'portions small taste subpar',\n",
       " 'wait come back highly recommend',\n",
       " 'portions small taste subpar',\n",
       " 'like food bland cold',\n",
       " 'food absolutely amazing loved',\n",
       " 'flavors incredible presentation beautiful',\n",
       " 'everything perfect starters desserts',\n",
       " 'service extremely slow disappointed',\n",
       " 'everything perfect starters desserts',\n",
       " 'flavors incredible presentation beautiful',\n",
       " 'great value money portions generous',\n",
       " 'staff rude atmosphere uninviting',\n",
       " 'best dining experience long time',\n",
       " 'waited hour food worth',\n",
       " 'everything perfect starters desserts',\n",
       " 'service extremely slow disappointed',\n",
       " 'great value money portions generous',\n",
       " 'high hopes food really disappointing',\n",
       " 'food overpriced underwhelming',\n",
       " 'great value money portions generous',\n",
       " 'terrible experience coming back',\n",
       " 'way noisy enjoy meal',\n",
       " 'great value money portions generous',\n",
       " 'waited hour food worth',\n",
       " 'good experience place dirty poorly managed',\n",
       " 'definitely one favorite spots city',\n",
       " 'definitely one favorite spots city',\n",
       " 'everything perfect starters desserts',\n",
       " 'service impeccable atmosphere perfect',\n",
       " 'portions small taste subpar',\n",
       " 'staff rude atmosphere uninviting',\n",
       " 'cozy place delicious food',\n",
       " 'everything perfect starters desserts',\n",
       " 'definitely one favorite spots city',\n",
       " 'portions small taste subpar',\n",
       " 'high hopes food really disappointing',\n",
       " 'high hopes food really disappointing',\n",
       " 'food overpriced underwhelming',\n",
       " 'flavors incredible presentation beautiful',\n",
       " 'everything perfect starters desserts',\n",
       " 'portions small taste subpar',\n",
       " 'wait come back highly recommend',\n",
       " 'good experience place dirty poorly managed',\n",
       " 'best dining experience long time',\n",
       " 'service impeccable atmosphere perfect',\n",
       " 'food overpriced underwhelming',\n",
       " 'great value money portions generous',\n",
       " 'staff rude atmosphere uninviting',\n",
       " 'terrible experience coming back',\n",
       " 'definitely one favorite spots city',\n",
       " 'good experience place dirty poorly managed',\n",
       " 'amazing ambiance staff friendly',\n",
       " 'staff rude atmosphere uninviting',\n",
       " 'cozy place delicious food',\n",
       " 'way noisy enjoy meal',\n",
       " 'flavors incredible presentation beautiful',\n",
       " 'great value money portions generous',\n",
       " 'definitely one favorite spots city',\n",
       " 'cozy place delicious food',\n",
       " 'great value money portions generous',\n",
       " 'staff rude atmosphere uninviting',\n",
       " 'service impeccable atmosphere perfect',\n",
       " 'everything perfect starters desserts',\n",
       " 'definitely one favorite spots city',\n",
       " 'flavors incredible presentation beautiful',\n",
       " 'amazing ambiance staff friendly',\n",
       " 'flavors incredible presentation beautiful',\n",
       " 'way noisy enjoy meal',\n",
       " 'food absolutely amazing loved',\n",
       " 'service extremely slow disappointed',\n",
       " 'terrible experience coming back',\n",
       " 'way noisy enjoy meal',\n",
       " 'flavors incredible presentation beautiful',\n",
       " 'food overpriced underwhelming',\n",
       " 'amazing ambiance staff friendly',\n",
       " 'service impeccable atmosphere perfect',\n",
       " 'terrible experience coming back',\n",
       " 'staff rude atmosphere uninviting',\n",
       " 'definitely one favorite spots city',\n",
       " 'definitely one favorite spots city',\n",
       " 'amazing ambiance staff friendly',\n",
       " 'like food bland cold',\n",
       " 'flavors incredible presentation beautiful',\n",
       " 'portions small taste subpar',\n",
       " 'high hopes food really disappointing',\n",
       " 'good experience place dirty poorly managed',\n",
       " 'food overpriced underwhelming',\n",
       " 'wait come back highly recommend',\n",
       " 'wait come back highly recommend',\n",
       " 'flavors incredible presentation beautiful',\n",
       " 'way noisy enjoy meal',\n",
       " 'everything perfect starters desserts',\n",
       " 'terrible experience coming back',\n",
       " 'food absolutely amazing loved',\n",
       " 'food absolutely amazing loved',\n",
       " 'everything perfect starters desserts',\n",
       " 'amazing ambiance staff friendly',\n",
       " 'food overpriced underwhelming',\n",
       " 'cozy place delicious food',\n",
       " 'great value money portions generous',\n",
       " 'portions small taste subpar',\n",
       " 'flavors incredible presentation beautiful',\n",
       " 'best dining experience long time',\n",
       " 'food absolutely amazing loved',\n",
       " 'service extremely slow disappointed',\n",
       " 'flavors incredible presentation beautiful',\n",
       " 'good experience place dirty poorly managed',\n",
       " 'everything perfect starters desserts',\n",
       " 'definitely one favorite spots city',\n",
       " 'way noisy enjoy meal',\n",
       " 'way noisy enjoy meal',\n",
       " 'staff rude atmosphere uninviting',\n",
       " 'high hopes food really disappointing',\n",
       " 'way noisy enjoy meal',\n",
       " 'high hopes food really disappointing',\n",
       " 'food overpriced underwhelming',\n",
       " 'best dining experience long time',\n",
       " 'staff rude atmosphere uninviting',\n",
       " 'staff rude atmosphere uninviting',\n",
       " 'good experience place dirty poorly managed',\n",
       " 'waited hour food worth',\n",
       " 'good experience place dirty poorly managed',\n",
       " 'food absolutely amazing loved',\n",
       " 'best dining experience long time',\n",
       " 'portions small taste subpar',\n",
       " 'service extremely slow disappointed',\n",
       " 'amazing ambiance staff friendly',\n",
       " 'way noisy enjoy meal',\n",
       " 'way noisy enjoy meal',\n",
       " 'cozy place delicious food',\n",
       " 'great value money portions generous',\n",
       " 'definitely one favorite spots city',\n",
       " 'like food bland cold',\n",
       " 'definitely one favorite spots city',\n",
       " 'great value money portions generous',\n",
       " 'definitely one favorite spots city',\n",
       " 'amazing ambiance staff friendly',\n",
       " 'service extremely slow disappointed',\n",
       " 'high hopes food really disappointing',\n",
       " 'cozy place delicious food',\n",
       " 'staff rude atmosphere uninviting',\n",
       " 'amazing ambiance staff friendly',\n",
       " 'service impeccable atmosphere perfect',\n",
       " 'high hopes food really disappointing',\n",
       " 'terrible experience coming back',\n",
       " 'everything perfect starters desserts',\n",
       " 'way noisy enjoy meal',\n",
       " 'flavors incredible presentation beautiful',\n",
       " 'terrible experience coming back',\n",
       " 'portions small taste subpar',\n",
       " 'service impeccable atmosphere perfect',\n",
       " 'everything perfect starters desserts',\n",
       " 'amazing ambiance staff friendly',\n",
       " 'cozy place delicious food',\n",
       " 'definitely one favorite spots city',\n",
       " 'flavors incredible presentation beautiful',\n",
       " 'food absolutely amazing loved',\n",
       " 'great value money portions generous',\n",
       " 'flavors incredible presentation beautiful',\n",
       " 'best dining experience long time',\n",
       " 'like food bland cold',\n",
       " 'great value money portions generous',\n",
       " 'definitely one favorite spots city',\n",
       " 'waited hour food worth',\n",
       " 'way noisy enjoy meal',\n",
       " 'best dining experience long time',\n",
       " 'portions small taste subpar',\n",
       " 'food absolutely amazing loved',\n",
       " 'food absolutely amazing loved',\n",
       " 'amazing ambiance staff friendly',\n",
       " 'like food bland cold',\n",
       " 'service impeccable atmosphere perfect',\n",
       " 'flavors incredible presentation beautiful',\n",
       " 'food absolutely amazing loved',\n",
       " 'food overpriced underwhelming',\n",
       " 'service impeccable atmosphere perfect',\n",
       " 'waited hour food worth',\n",
       " 'food overpriced underwhelming',\n",
       " 'portions small taste subpar',\n",
       " 'service extremely slow disappointed',\n",
       " 'portions small taste subpar',\n",
       " 'terrible experience coming back',\n",
       " 'high hopes food really disappointing',\n",
       " 'definitely one favorite spots city',\n",
       " 'great value money portions generous',\n",
       " 'definitely one favorite spots city',\n",
       " 'way noisy enjoy meal',\n",
       " 'high hopes food really disappointing',\n",
       " 'staff rude atmosphere uninviting',\n",
       " 'service extremely slow disappointed',\n",
       " 'portions small taste subpar',\n",
       " 'waited hour food worth',\n",
       " 'high hopes food really disappointing',\n",
       " 'service extremely slow disappointed',\n",
       " 'amazing ambiance staff friendly',\n",
       " 'like food bland cold',\n",
       " 'service impeccable atmosphere perfect',\n",
       " 'way noisy enjoy meal',\n",
       " 'like food bland cold',\n",
       " 'food absolutely amazing loved',\n",
       " 'wait come back highly recommend',\n",
       " 'like food bland cold',\n",
       " 'good experience place dirty poorly managed',\n",
       " 'terrible experience coming back',\n",
       " 'everything perfect starters desserts',\n",
       " 'food absolutely amazing loved',\n",
       " 'service extremely slow disappointed',\n",
       " 'service impeccable atmosphere perfect',\n",
       " 'everything perfect starters desserts',\n",
       " 'service extremely slow disappointed',\n",
       " 'staff rude atmosphere uninviting',\n",
       " 'definitely one favorite spots city',\n",
       " 'like food bland cold',\n",
       " 'staff rude atmosphere uninviting',\n",
       " 'flavors incredible presentation beautiful',\n",
       " 'portions small taste subpar',\n",
       " 'service extremely slow disappointed',\n",
       " 'cozy place delicious food',\n",
       " 'service impeccable atmosphere perfect',\n",
       " 'good experience place dirty poorly managed',\n",
       " 'best dining experience long time',\n",
       " 'service extremely slow disappointed',\n",
       " 'service impeccable atmosphere perfect',\n",
       " 'best dining experience long time',\n",
       " 'terrible experience coming back',\n",
       " 'high hopes food really disappointing',\n",
       " 'service extremely slow disappointed',\n",
       " 'flavors incredible presentation beautiful',\n",
       " 'great value money portions generous',\n",
       " 'waited hour food worth',\n",
       " 'amazing ambiance staff friendly',\n",
       " 'great value money portions generous',\n",
       " 'flavors incredible presentation beautiful',\n",
       " 'like food bland cold',\n",
       " 'food overpriced underwhelming',\n",
       " 'service extremely slow disappointed',\n",
       " 'waited hour food worth',\n",
       " 'food absolutely amazing loved',\n",
       " 'food overpriced underwhelming',\n",
       " 'everything perfect starters desserts',\n",
       " 'amazing ambiance staff friendly',\n",
       " 'best dining experience long time',\n",
       " 'like food bland cold',\n",
       " 'great value money portions generous',\n",
       " 'portions small taste subpar',\n",
       " 'flavors incredible presentation beautiful',\n",
       " 'wait come back highly recommend',\n",
       " 'good experience place dirty poorly managed',\n",
       " 'cozy place delicious food',\n",
       " 'definitely one favorite spots city',\n",
       " 'food overpriced underwhelming',\n",
       " 'best dining experience long time',\n",
       " 'definitely one favorite spots city',\n",
       " 'definitely one favorite spots city',\n",
       " 'way noisy enjoy meal',\n",
       " 'like food bland cold',\n",
       " 'good experience place dirty poorly managed',\n",
       " 'like food bland cold',\n",
       " 'food absolutely amazing loved',\n",
       " 'wait come back highly recommend',\n",
       " 'waited hour food worth',\n",
       " 'everything perfect starters desserts',\n",
       " 'portions small taste subpar',\n",
       " 'portions small taste subpar',\n",
       " 'amazing ambiance staff friendly',\n",
       " 'terrible experience coming back',\n",
       " 'food absolutely amazing loved',\n",
       " 'best dining experience long time',\n",
       " 'portions small taste subpar',\n",
       " 'service extremely slow disappointed',\n",
       " 'flavors incredible presentation beautiful',\n",
       " 'everything perfect starters desserts',\n",
       " 'amazing ambiance staff friendly',\n",
       " 'flavors incredible presentation beautiful',\n",
       " 'cozy place delicious food',\n",
       " 'cozy place delicious food',\n",
       " 'wait come back highly recommend',\n",
       " 'waited hour food worth',\n",
       " 'food absolutely amazing loved',\n",
       " 'terrible experience coming back',\n",
       " 'amazing ambiance staff friendly',\n",
       " 'amazing ambiance staff friendly',\n",
       " 'high hopes food really disappointing',\n",
       " 'amazing ambiance staff friendly',\n",
       " 'service impeccable atmosphere perfect',\n",
       " 'definitely one favorite spots city',\n",
       " 'amazing ambiance staff friendly',\n",
       " 'definitely one favorite spots city',\n",
       " 'cozy place delicious food',\n",
       " 'service extremely slow disappointed',\n",
       " 'waited hour food worth',\n",
       " 'cozy place delicious food',\n",
       " 'high hopes food really disappointing',\n",
       " 'amazing ambiance staff friendly',\n",
       " 'definitely one favorite spots city',\n",
       " 'best dining experience long time',\n",
       " 'wait come back highly recommend',\n",
       " 'service impeccable atmosphere perfect',\n",
       " 'definitely one favorite spots city',\n",
       " 'waited hour food worth',\n",
       " 'staff rude atmosphere uninviting',\n",
       " 'high hopes food really disappointing',\n",
       " 'service impeccable atmosphere perfect',\n",
       " 'service impeccable atmosphere perfect',\n",
       " 'flavors incredible presentation beautiful',\n",
       " 'amazing ambiance staff friendly',\n",
       " 'great value money portions generous',\n",
       " 'waited hour food worth',\n",
       " 'cozy place delicious food',\n",
       " 'great value money portions generous',\n",
       " 'terrible experience coming back',\n",
       " 'food overpriced underwhelming',\n",
       " 'terrible experience coming back',\n",
       " 'cozy place delicious food',\n",
       " 'service impeccable atmosphere perfect',\n",
       " 'food absolutely amazing loved',\n",
       " 'best dining experience long time',\n",
       " 'terrible experience coming back',\n",
       " 'great value money portions generous',\n",
       " 'high hopes food really disappointing',\n",
       " 'waited hour food worth',\n",
       " 'like food bland cold',\n",
       " 'flavors incredible presentation beautiful',\n",
       " 'wait come back highly recommend',\n",
       " 'like food bland cold',\n",
       " 'high hopes food really disappointing',\n",
       " 'cozy place delicious food',\n",
       " 'portions small taste subpar',\n",
       " 'everything perfect starters desserts',\n",
       " 'service impeccable atmosphere perfect',\n",
       " 'wait come back highly recommend',\n",
       " 'service impeccable atmosphere perfect',\n",
       " 'food overpriced underwhelming',\n",
       " 'waited hour food worth',\n",
       " 'high hopes food really disappointing',\n",
       " 'way noisy enjoy meal',\n",
       " 'like food bland cold',\n",
       " 'portions small taste subpar',\n",
       " 'wait come back highly recommend',\n",
       " 'high hopes food really disappointing',\n",
       " 'amazing ambiance staff friendly',\n",
       " 'service impeccable atmosphere perfect',\n",
       " 'waited hour food worth',\n",
       " 'food overpriced underwhelming',\n",
       " 'wait come back highly recommend',\n",
       " 'like food bland cold',\n",
       " 'amazing ambiance staff friendly',\n",
       " 'flavors incredible presentation beautiful',\n",
       " 'food overpriced underwhelming',\n",
       " 'great value money portions generous',\n",
       " 'service extremely slow disappointed',\n",
       " 'terrible experience coming back',\n",
       " 'definitely one favorite spots city',\n",
       " 'way noisy enjoy meal',\n",
       " 'best dining experience long time',\n",
       " 'portions small taste subpar',\n",
       " 'service impeccable atmosphere perfect',\n",
       " 'terrible experience coming back',\n",
       " 'like food bland cold',\n",
       " 'portions small taste subpar',\n",
       " 'food absolutely amazing loved',\n",
       " 'portions small taste subpar',\n",
       " 'portions small taste subpar',\n",
       " 'everything perfect starters desserts',\n",
       " 'cozy place delicious food',\n",
       " 'terrible experience coming back',\n",
       " 'service impeccable atmosphere perfect',\n",
       " 'wait come back highly recommend',\n",
       " 'service extremely slow disappointed',\n",
       " 'like food bland cold',\n",
       " 'good experience place dirty poorly managed',\n",
       " 'service extremely slow disappointed',\n",
       " 'best dining experience long time',\n",
       " 'like food bland cold',\n",
       " 'everything perfect starters desserts',\n",
       " 'staff rude atmosphere uninviting',\n",
       " 'amazing ambiance staff friendly',\n",
       " 'staff rude atmosphere uninviting',\n",
       " 'food overpriced underwhelming',\n",
       " 'wait come back highly recommend',\n",
       " 'best dining experience long time',\n",
       " 'cozy place delicious food',\n",
       " 'terrible experience coming back',\n",
       " 'terrible experience coming back',\n",
       " 'high hopes food really disappointing',\n",
       " 'food absolutely amazing loved',\n",
       " 'wait come back highly recommend',\n",
       " 'everything perfect starters desserts',\n",
       " 'terrible experience coming back',\n",
       " 'food absolutely amazing loved',\n",
       " 'definitely one favorite spots city',\n",
       " 'best dining experience long time',\n",
       " 'everything perfect starters desserts',\n",
       " 'like food bland cold',\n",
       " 'amazing ambiance staff friendly',\n",
       " 'best dining experience long time',\n",
       " 'best dining experience long time',\n",
       " 'food absolutely amazing loved',\n",
       " 'service extremely slow disappointed',\n",
       " 'amazing ambiance staff friendly',\n",
       " 'portions small taste subpar',\n",
       " 'waited hour food worth',\n",
       " 'food overpriced underwhelming',\n",
       " 'service extremely slow disappointed',\n",
       " 'service extremely slow disappointed',\n",
       " 'wait come back highly recommend',\n",
       " 'good experience place dirty poorly managed',\n",
       " 'staff rude atmosphere uninviting',\n",
       " 'amazing ambiance staff friendly',\n",
       " 'good experience place dirty poorly managed',\n",
       " 'staff rude atmosphere uninviting',\n",
       " 'food absolutely amazing loved',\n",
       " 'terrible experience coming back',\n",
       " 'food overpriced underwhelming',\n",
       " 'everything perfect starters desserts',\n",
       " 'service extremely slow disappointed',\n",
       " 'cozy place delicious food',\n",
       " 'great value money portions generous',\n",
       " 'food absolutely amazing loved',\n",
       " 'great value money portions generous',\n",
       " 'food absolutely amazing loved',\n",
       " 'service impeccable atmosphere perfect',\n",
       " 'cozy place delicious food',\n",
       " 'food overpriced underwhelming',\n",
       " 'food overpriced underwhelming',\n",
       " 'food absolutely amazing loved',\n",
       " 'service impeccable atmosphere perfect',\n",
       " 'great value money portions generous',\n",
       " 'food absolutely amazing loved',\n",
       " 'food overpriced underwhelming',\n",
       " 'service impeccable atmosphere perfect',\n",
       " 'way noisy enjoy meal',\n",
       " 'great value money portions generous',\n",
       " 'waited hour food worth',\n",
       " 'best dining experience long time',\n",
       " 'service impeccable atmosphere perfect',\n",
       " 'definitely one favorite spots city',\n",
       " 'good experience place dirty poorly managed',\n",
       " 'service extremely slow disappointed',\n",
       " 'good experience place dirty poorly managed',\n",
       " 'wait come back highly recommend',\n",
       " 'way noisy enjoy meal',\n",
       " 'amazing ambiance staff friendly',\n",
       " 'flavors incredible presentation beautiful',\n",
       " 'way noisy enjoy meal',\n",
       " 'waited hour food worth',\n",
       " 'food absolutely amazing loved',\n",
       " 'like food bland cold',\n",
       " 'way noisy enjoy meal',\n",
       " 'best dining experience long time',\n",
       " 'everything perfect starters desserts',\n",
       " 'service extremely slow disappointed',\n",
       " 'staff rude atmosphere uninviting',\n",
       " 'great value money portions generous',\n",
       " 'portions small taste subpar',\n",
       " 'everything perfect starters desserts',\n",
       " 'great value money portions generous',\n",
       " 'wait come back highly recommend',\n",
       " 'food absolutely amazing loved',\n",
       " 'flavors incredible presentation beautiful',\n",
       " 'great value money portions generous',\n",
       " 'good experience place dirty poorly managed',\n",
       " 'amazing ambiance staff friendly',\n",
       " 'waited hour food worth',\n",
       " 'everything perfect starters desserts',\n",
       " 'food absolutely amazing loved',\n",
       " 'service extremely slow disappointed',\n",
       " 'portions small taste subpar',\n",
       " 'service extremely slow disappointed',\n",
       " 'great value money portions generous',\n",
       " 'best dining experience long time',\n",
       " 'wait come back highly recommend',\n",
       " 'staff rude atmosphere uninviting',\n",
       " 'staff rude atmosphere uninviting',\n",
       " 'food overpriced underwhelming',\n",
       " 'food overpriced underwhelming',\n",
       " 'wait come back highly recommend',\n",
       " 'everything perfect starters desserts',\n",
       " 'great value money portions generous',\n",
       " 'staff rude atmosphere uninviting',\n",
       " 'waited hour food worth',\n",
       " 'cozy place delicious food',\n",
       " 'food overpriced underwhelming',\n",
       " 'good experience place dirty poorly managed',\n",
       " 'high hopes food really disappointing',\n",
       " 'great value money portions generous',\n",
       " 'flavors incredible presentation beautiful',\n",
       " 'way noisy enjoy meal',\n",
       " 'wait come back highly recommend',\n",
       " 'service impeccable atmosphere perfect',\n",
       " 'service impeccable atmosphere perfect',\n",
       " 'amazing ambiance staff friendly',\n",
       " 'good experience place dirty poorly managed',\n",
       " 'good experience place dirty poorly managed',\n",
       " 'way noisy enjoy meal',\n",
       " 'way noisy enjoy meal',\n",
       " 'best dining experience long time',\n",
       " 'staff rude atmosphere uninviting',\n",
       " 'way noisy enjoy meal',\n",
       " 'food absolutely amazing loved',\n",
       " 'high hopes food really disappointing',\n",
       " 'service impeccable atmosphere perfect',\n",
       " 'wait come back highly recommend',\n",
       " 'everything perfect starters desserts',\n",
       " 'way noisy enjoy meal',\n",
       " 'cozy place delicious food',\n",
       " 'food absolutely amazing loved',\n",
       " 'staff rude atmosphere uninviting',\n",
       " 'way noisy enjoy meal',\n",
       " 'way noisy enjoy meal',\n",
       " 'great value money portions generous',\n",
       " 'way noisy enjoy meal',\n",
       " 'best dining experience long time',\n",
       " 'service impeccable atmosphere perfect',\n",
       " 'way noisy enjoy meal',\n",
       " 'amazing ambiance staff friendly',\n",
       " 'best dining experience long time',\n",
       " 'service impeccable atmosphere perfect',\n",
       " 'amazing ambiance staff friendly',\n",
       " 'service impeccable atmosphere perfect',\n",
       " 'staff rude atmosphere uninviting',\n",
       " 'good experience place dirty poorly managed',\n",
       " 'terrible experience coming back',\n",
       " 'food absolutely amazing loved',\n",
       " 'terrible experience coming back',\n",
       " 'high hopes food really disappointing',\n",
       " 'way noisy enjoy meal',\n",
       " 'best dining experience long time',\n",
       " 'good experience place dirty poorly managed',\n",
       " 'like food bland cold',\n",
       " 'wait come back highly recommend',\n",
       " 'waited hour food worth',\n",
       " 'definitely one favorite spots city',\n",
       " 'waited hour food worth',\n",
       " 'high hopes food really disappointing',\n",
       " 'everything perfect starters desserts',\n",
       " 'way noisy enjoy meal',\n",
       " 'everything perfect starters desserts',\n",
       " 'terrible experience coming back',\n",
       " 'portions small taste subpar',\n",
       " 'good experience place dirty poorly managed',\n",
       " 'service extremely slow disappointed',\n",
       " 'food overpriced underwhelming',\n",
       " 'good experience place dirty poorly managed',\n",
       " 'great value money portions generous',\n",
       " 'best dining experience long time',\n",
       " 'cozy place delicious food',\n",
       " 'way noisy enjoy meal',\n",
       " 'portions small taste subpar',\n",
       " 'best dining experience long time',\n",
       " 'service extremely slow disappointed',\n",
       " 'flavors incredible presentation beautiful',\n",
       " 'food overpriced underwhelming',\n",
       " 'service extremely slow disappointed',\n",
       " 'great value money portions generous',\n",
       " 'way noisy enjoy meal',\n",
       " 'best dining experience long time',\n",
       " 'staff rude atmosphere uninviting',\n",
       " 'waited hour food worth',\n",
       " 'wait come back highly recommend',\n",
       " 'cozy place delicious food',\n",
       " 'cozy place delicious food',\n",
       " 'way noisy enjoy meal',\n",
       " 'cozy place delicious food',\n",
       " 'cozy place delicious food',\n",
       " 'service impeccable atmosphere perfect',\n",
       " 'staff rude atmosphere uninviting',\n",
       " 'flavors incredible presentation beautiful',\n",
       " 'food absolutely amazing loved',\n",
       " 'flavors incredible presentation beautiful',\n",
       " 'like food bland cold',\n",
       " 'way noisy enjoy meal',\n",
       " 'great value money portions generous',\n",
       " 'amazing ambiance staff friendly',\n",
       " 'food absolutely amazing loved',\n",
       " 'cozy place delicious food',\n",
       " 'worth hype mediocre experience',\n",
       " 'worst dining experience ever',\n",
       " 'terrible service would recommend',\n",
       " 'overpriced quality coming back',\n",
       " 'portions tiny food lacked flavor',\n",
       " 'portions tiny food lacked flavor',\n",
       " 'worth hype mediocre experience',\n",
       " 'loved every bit dining experience worth every penny',\n",
       " 'loved every bit dining experience worth every penny',\n",
       " 'worst dining experience ever',\n",
       " 'place never disappoints consistent delicious',\n",
       " 'loved every bit dining experience worth every penny',\n",
       " 'noisy uncomfortable enjoy meal',\n",
       " 'best meal long time everything perfect',\n",
       " 'amazing food fast service cozy ambiance ask',\n",
       " 'food undercooked staff unhelpful',\n",
       " 'worth hype mediocre experience',\n",
       " 'terrible service would recommend',\n",
       " 'staff friendly food delightful',\n",
       " 'definitely returning everything top notch',\n",
       " 'food absolutely amazing would definitely come back',\n",
       " 'exceptional service delicious food real hidden gem',\n",
       " 'best meal long time everything perfect',\n",
       " 'portions tiny food lacked flavor',\n",
       " 'rude staff food took forever arrive',\n",
       " 'overpriced quality coming back',\n",
       " 'terrible service would recommend',\n",
       " 'worth hype mediocre experience',\n",
       " 'staff friendly food delightful',\n",
       " 'portions tiny food lacked flavor',\n",
       " 'loved every bit dining experience worth every penny',\n",
       " 'food cold tasteless extremely disappointing',\n",
       " 'staff friendly food delightful',\n",
       " 'noisy uncomfortable enjoy meal',\n",
       " 'portions tiny food lacked flavor',\n",
       " 'definitely returning everything top notch',\n",
       " 'great portions flavors world',\n",
       " 'portions tiny food lacked flavor',\n",
       " 'amazing food fast service cozy ambiance ask',\n",
       " 'loved every bit dining experience worth every penny',\n",
       " 'extremely slow service bland food',\n",
       " 'rude staff food took forever arrive',\n",
       " 'worth hype mediocre experience',\n",
       " 'definitely returning everything top notch',\n",
       " 'best meal long time everything perfect',\n",
       " 'terrible service would recommend',\n",
       " 'extremely slow service bland food',\n",
       " 'amazing food fast service cozy ambiance ask',\n",
       " 'extremely slow service bland food',\n",
       " 'overpriced quality coming back',\n",
       " 'food absolutely amazing would definitely come back',\n",
       " 'great portions flavors world',\n",
       " 'overpriced quality coming back',\n",
       " 'great portions flavors world',\n",
       " 'great portions flavors world',\n",
       " 'overpriced quality coming back',\n",
       " 'food undercooked staff unhelpful',\n",
       " 'fantastic atmosphere great service highly recommended',\n",
       " 'rude staff food took forever arrive',\n",
       " 'worst dining experience ever',\n",
       " 'exceptional service delicious food real hidden gem',\n",
       " 'rude staff food took forever arrive',\n",
       " 'definitely returning everything top notch',\n",
       " 'best meal long time everything perfect',\n",
       " 'food absolutely amazing would definitely come back',\n",
       " 'food undercooked staff unhelpful',\n",
       " 'noisy uncomfortable enjoy meal',\n",
       " 'fantastic atmosphere great service highly recommended',\n",
       " 'overpriced quality coming back',\n",
       " 'loved every bit dining experience worth every penny',\n",
       " 'food undercooked staff unhelpful',\n",
       " 'portions tiny food lacked flavor',\n",
       " 'loved every bit dining experience worth every penny',\n",
       " 'food undercooked staff unhelpful',\n",
       " 'amazing food fast service cozy ambiance ask',\n",
       " 'extremely slow service bland food',\n",
       " 'amazing food fast service cozy ambiance ask',\n",
       " 'overpriced quality coming back',\n",
       " 'exceptional service delicious food real hidden gem',\n",
       " 'place never disappoints consistent delicious',\n",
       " 'place never disappoints consistent delicious',\n",
       " 'fantastic atmosphere great service highly recommended',\n",
       " 'exceptional service delicious food real hidden gem',\n",
       " 'rude staff food took forever arrive',\n",
       " 'best meal long time everything perfect',\n",
       " 'worth hype mediocre experience',\n",
       " 'exceptional service delicious food real hidden gem',\n",
       " 'fantastic atmosphere great service highly recommended',\n",
       " 'rude staff food took forever arrive',\n",
       " 'exceptional service delicious food real hidden gem',\n",
       " 'definitely returning everything top notch',\n",
       " 'best meal long time everything perfect',\n",
       " 'worst dining experience ever',\n",
       " 'portions tiny food lacked flavor',\n",
       " 'definitely returning everything top notch',\n",
       " 'noisy uncomfortable enjoy meal',\n",
       " 'food cold tasteless extremely disappointing',\n",
       " 'great portions flavors world',\n",
       " 'place never disappoints consistent delicious',\n",
       " 'noisy uncomfortable enjoy meal',\n",
       " 'great portions flavors world',\n",
       " 'loved every bit dining experience worth every penny',\n",
       " 'rude staff food took forever arrive',\n",
       " 'extremely slow service bland food',\n",
       " 'definitely returning everything top notch',\n",
       " ...]"
      ]
     },
     "execution_count": 36,
     "metadata": {},
     "output_type": "execute_result"
    }
   ],
   "source": [
    "# putting it all together\n",
    "\n",
    "corpus = []\n",
    "\n",
    "for i  in range(len(data)):\n",
    "    s = re.sub('[^a-zA-Z]',\" \",data ['Review' ][i])\n",
    "    s = s.lower()\n",
    "    s = s.split()\n",
    "    s = [ word for word in s if word not in stopwords.words('english')]\n",
    "    s = ' '.join(s)\n",
    "#     s = ps.stem(s)\n",
    "    corpus.append(s)\n",
    "\n",
    "corpus"
   ]
  },
  {
   "cell_type": "code",
   "execution_count": null,
   "id": "5XhTCZeVnxMp",
   "metadata": {
    "colab": {
     "base_uri": "https://localhost:8080/",
     "height": 458
    },
    "id": "5XhTCZeVnxMp",
    "outputId": "ba262861-5efe-4f78-de55-1ed70a2d6bbf"
   },
   "outputs": [],
   "source": []
  },
  {
   "cell_type": "code",
   "execution_count": null,
   "id": "knAhY7iXn-mR",
   "metadata": {
    "colab": {
     "base_uri": "https://localhost:8080/",
     "height": 423
    },
    "id": "knAhY7iXn-mR",
    "outputId": "fc07fd93-1258-48a1-bae4-cc5398b29329"
   },
   "outputs": [],
   "source": []
  },
  {
   "cell_type": "code",
   "execution_count": null,
   "id": "Sr_364wopDwQ",
   "metadata": {
    "colab": {
     "base_uri": "https://localhost:8080/",
     "height": 452
    },
    "id": "Sr_364wopDwQ",
    "outputId": "57daee7e-570d-4f4d-d502-3bc2d40f7068"
   },
   "outputs": [],
   "source": []
  },
  {
   "cell_type": "code",
   "execution_count": null,
   "id": "Q0zpmZx3q-iW",
   "metadata": {
    "id": "Q0zpmZx3q-iW"
   },
   "outputs": [],
   "source": []
  },
  {
   "cell_type": "code",
   "execution_count": 37,
   "id": "278f954d-7b11-4724-beab-f0c83b9ab142",
   "metadata": {
    "colab": {
     "base_uri": "https://localhost:8080/"
    },
    "id": "278f954d-7b11-4724-beab-f0c83b9ab142",
    "outputId": "09abfaaf-3383-4016-c2ff-527fcd972304"
   },
   "outputs": [
    {
     "data": {
      "text/plain": [
       "(3711, 1911)"
      ]
     },
     "execution_count": 37,
     "metadata": {},
     "output_type": "execute_result"
    }
   ],
   "source": [
    "cv=CountVectorizer()\n",
    "cv.fit_transform(corpus).toarray().shape"
   ]
  },
  {
   "cell_type": "code",
   "execution_count": 38,
   "id": "2283affc-89ea-402a-b4dc-a103cc8f556c",
   "metadata": {
    "colab": {
     "base_uri": "https://localhost:8080/"
    },
    "id": "2283affc-89ea-402a-b4dc-a103cc8f556c",
    "outputId": "2b52e973-6225-4f1c-902a-6a2df118d35c"
   },
   "outputs": [
    {
     "data": {
      "text/plain": [
       "array([[0, 0, 0, ..., 0, 0, 0],\n",
       "       [0, 0, 0, ..., 0, 0, 0],\n",
       "       [0, 1, 0, ..., 0, 0, 0],\n",
       "       ...,\n",
       "       [0, 0, 0, ..., 0, 0, 0],\n",
       "       [0, 0, 0, ..., 0, 0, 0],\n",
       "       [0, 0, 0, ..., 0, 0, 0]], dtype=int64)"
      ]
     },
     "execution_count": 38,
     "metadata": {},
     "output_type": "execute_result"
    }
   ],
   "source": [
    "X = cv.fit_transform(corpus).toarray()\n",
    "X"
   ]
  },
  {
   "cell_type": "code",
   "execution_count": 39,
   "id": "84ab6526-84ed-4540-9f4e-a274bf85bfac",
   "metadata": {
    "colab": {
     "base_uri": "https://localhost:8080/"
    },
    "id": "84ab6526-84ed-4540-9f4e-a274bf85bfac",
    "outputId": "1362223f-d82d-4ec1-df75-924076b2cf01",
    "scrolled": true
   },
   "outputs": [
    {
     "data": {
      "text/plain": [
       "array([0., 0., 1., ..., 1., 1., 0.])"
      ]
     },
     "execution_count": 39,
     "metadata": {},
     "output_type": "execute_result"
    }
   ],
   "source": [
    "y = data ['Liked'].values\n",
    "y"
   ]
  },
  {
   "cell_type": "code",
   "execution_count": 40,
   "id": "eca9b837-d6db-4e88-87a9-e952ea389d83",
   "metadata": {
    "id": "eca9b837-d6db-4e88-87a9-e952ea389d83"
   },
   "outputs": [],
   "source": [
    "from sklearn.model_selection import train_test_split\n"
   ]
  },
  {
   "cell_type": "code",
   "execution_count": 41,
   "id": "45a8654d-090d-4d33-aae9-bb549791b755",
   "metadata": {
    "id": "45a8654d-090d-4d33-aae9-bb549791b755"
   },
   "outputs": [],
   "source": [
    "X_train ,X_test, y_train ,y_test = train_test_split (X ,y ,test_size=0.25 ,random_state=42)"
   ]
  },
  {
   "cell_type": "code",
   "execution_count": 42,
   "id": "44ed17c4-8bd9-4953-a655-ca1a35fb9fba",
   "metadata": {
    "colab": {
     "base_uri": "https://localhost:8080/"
    },
    "id": "44ed17c4-8bd9-4953-a655-ca1a35fb9fba",
    "outputId": "c3dec6f8-4698-4d3e-d1d0-adc609d82741"
   },
   "outputs": [
    {
     "data": {
      "text/plain": [
       "array([[0, 0, 0, ..., 0, 0, 0],\n",
       "       [0, 0, 0, ..., 0, 0, 0],\n",
       "       [0, 0, 0, ..., 0, 0, 0],\n",
       "       ...,\n",
       "       [0, 0, 0, ..., 0, 0, 0],\n",
       "       [0, 0, 0, ..., 0, 0, 0],\n",
       "       [0, 0, 0, ..., 0, 0, 0]], dtype=int64)"
      ]
     },
     "execution_count": 42,
     "metadata": {},
     "output_type": "execute_result"
    }
   ],
   "source": [
    "X_train"
   ]
  },
  {
   "cell_type": "code",
   "execution_count": 43,
   "id": "21d2bb56-9629-48d4-8c81-fdb3f57303cd",
   "metadata": {
    "colab": {
     "base_uri": "https://localhost:8080/"
    },
    "id": "21d2bb56-9629-48d4-8c81-fdb3f57303cd",
    "outputId": "ff69693a-acac-4256-dcf6-f6310768b9fd"
   },
   "outputs": [
    {
     "data": {
      "text/plain": [
       "array([0., 1., 0., ..., 0., 0., 1.])"
      ]
     },
     "execution_count": 43,
     "metadata": {},
     "output_type": "execute_result"
    }
   ],
   "source": [
    "y_train"
   ]
  },
  {
   "cell_type": "markdown",
   "id": "25dc3b99-76b7-46e5-939f-80ac434881b1",
   "metadata": {
    "id": "25dc3b99-76b7-46e5-939f-80ac434881b1"
   },
   "source": [
    "# Modelieng"
   ]
  },
  {
   "cell_type": "code",
   "execution_count": 44,
   "id": "293f4867-761b-4b64-8243-6f6e79eaa353",
   "metadata": {
    "id": "293f4867-761b-4b64-8243-6f6e79eaa353"
   },
   "outputs": [],
   "source": [
    "from sklearn.linear_model import LogisticRegression\n",
    "LR_model = LogisticRegression()"
   ]
  },
  {
   "cell_type": "code",
   "execution_count": 45,
   "id": "206e42a0-919c-4400-aa78-0d83e8e94bba",
   "metadata": {
    "colab": {
     "base_uri": "https://localhost:8080/",
     "height": 80
    },
    "id": "206e42a0-919c-4400-aa78-0d83e8e94bba",
    "outputId": "90fea623-feab-4e58-bbb0-50a089392941"
   },
   "outputs": [
    {
     "data": {
      "text/html": [
       "<style>#sk-container-id-1 {\n",
       "  /* Definition of color scheme common for light and dark mode */\n",
       "  --sklearn-color-text: black;\n",
       "  --sklearn-color-line: gray;\n",
       "  /* Definition of color scheme for unfitted estimators */\n",
       "  --sklearn-color-unfitted-level-0: #fff5e6;\n",
       "  --sklearn-color-unfitted-level-1: #f6e4d2;\n",
       "  --sklearn-color-unfitted-level-2: #ffe0b3;\n",
       "  --sklearn-color-unfitted-level-3: chocolate;\n",
       "  /* Definition of color scheme for fitted estimators */\n",
       "  --sklearn-color-fitted-level-0: #f0f8ff;\n",
       "  --sklearn-color-fitted-level-1: #d4ebff;\n",
       "  --sklearn-color-fitted-level-2: #b3dbfd;\n",
       "  --sklearn-color-fitted-level-3: cornflowerblue;\n",
       "\n",
       "  /* Specific color for light theme */\n",
       "  --sklearn-color-text-on-default-background: var(--sg-text-color, var(--theme-code-foreground, var(--jp-content-font-color1, black)));\n",
       "  --sklearn-color-background: var(--sg-background-color, var(--theme-background, var(--jp-layout-color0, white)));\n",
       "  --sklearn-color-border-box: var(--sg-text-color, var(--theme-code-foreground, var(--jp-content-font-color1, black)));\n",
       "  --sklearn-color-icon: #696969;\n",
       "\n",
       "  @media (prefers-color-scheme: dark) {\n",
       "    /* Redefinition of color scheme for dark theme */\n",
       "    --sklearn-color-text-on-default-background: var(--sg-text-color, var(--theme-code-foreground, var(--jp-content-font-color1, white)));\n",
       "    --sklearn-color-background: var(--sg-background-color, var(--theme-background, var(--jp-layout-color0, #111)));\n",
       "    --sklearn-color-border-box: var(--sg-text-color, var(--theme-code-foreground, var(--jp-content-font-color1, white)));\n",
       "    --sklearn-color-icon: #878787;\n",
       "  }\n",
       "}\n",
       "\n",
       "#sk-container-id-1 {\n",
       "  color: var(--sklearn-color-text);\n",
       "}\n",
       "\n",
       "#sk-container-id-1 pre {\n",
       "  padding: 0;\n",
       "}\n",
       "\n",
       "#sk-container-id-1 input.sk-hidden--visually {\n",
       "  border: 0;\n",
       "  clip: rect(1px 1px 1px 1px);\n",
       "  clip: rect(1px, 1px, 1px, 1px);\n",
       "  height: 1px;\n",
       "  margin: -1px;\n",
       "  overflow: hidden;\n",
       "  padding: 0;\n",
       "  position: absolute;\n",
       "  width: 1px;\n",
       "}\n",
       "\n",
       "#sk-container-id-1 div.sk-dashed-wrapped {\n",
       "  border: 1px dashed var(--sklearn-color-line);\n",
       "  margin: 0 0.4em 0.5em 0.4em;\n",
       "  box-sizing: border-box;\n",
       "  padding-bottom: 0.4em;\n",
       "  background-color: var(--sklearn-color-background);\n",
       "}\n",
       "\n",
       "#sk-container-id-1 div.sk-container {\n",
       "  /* jupyter's `normalize.less` sets `[hidden] { display: none; }`\n",
       "     but bootstrap.min.css set `[hidden] { display: none !important; }`\n",
       "     so we also need the `!important` here to be able to override the\n",
       "     default hidden behavior on the sphinx rendered scikit-learn.org.\n",
       "     See: https://github.com/scikit-learn/scikit-learn/issues/21755 */\n",
       "  display: inline-block !important;\n",
       "  position: relative;\n",
       "}\n",
       "\n",
       "#sk-container-id-1 div.sk-text-repr-fallback {\n",
       "  display: none;\n",
       "}\n",
       "\n",
       "div.sk-parallel-item,\n",
       "div.sk-serial,\n",
       "div.sk-item {\n",
       "  /* draw centered vertical line to link estimators */\n",
       "  background-image: linear-gradient(var(--sklearn-color-text-on-default-background), var(--sklearn-color-text-on-default-background));\n",
       "  background-size: 2px 100%;\n",
       "  background-repeat: no-repeat;\n",
       "  background-position: center center;\n",
       "}\n",
       "\n",
       "/* Parallel-specific style estimator block */\n",
       "\n",
       "#sk-container-id-1 div.sk-parallel-item::after {\n",
       "  content: \"\";\n",
       "  width: 100%;\n",
       "  border-bottom: 2px solid var(--sklearn-color-text-on-default-background);\n",
       "  flex-grow: 1;\n",
       "}\n",
       "\n",
       "#sk-container-id-1 div.sk-parallel {\n",
       "  display: flex;\n",
       "  align-items: stretch;\n",
       "  justify-content: center;\n",
       "  background-color: var(--sklearn-color-background);\n",
       "  position: relative;\n",
       "}\n",
       "\n",
       "#sk-container-id-1 div.sk-parallel-item {\n",
       "  display: flex;\n",
       "  flex-direction: column;\n",
       "}\n",
       "\n",
       "#sk-container-id-1 div.sk-parallel-item:first-child::after {\n",
       "  align-self: flex-end;\n",
       "  width: 50%;\n",
       "}\n",
       "\n",
       "#sk-container-id-1 div.sk-parallel-item:last-child::after {\n",
       "  align-self: flex-start;\n",
       "  width: 50%;\n",
       "}\n",
       "\n",
       "#sk-container-id-1 div.sk-parallel-item:only-child::after {\n",
       "  width: 0;\n",
       "}\n",
       "\n",
       "/* Serial-specific style estimator block */\n",
       "\n",
       "#sk-container-id-1 div.sk-serial {\n",
       "  display: flex;\n",
       "  flex-direction: column;\n",
       "  align-items: center;\n",
       "  background-color: var(--sklearn-color-background);\n",
       "  padding-right: 1em;\n",
       "  padding-left: 1em;\n",
       "}\n",
       "\n",
       "\n",
       "/* Toggleable style: style used for estimator/Pipeline/ColumnTransformer box that is\n",
       "clickable and can be expanded/collapsed.\n",
       "- Pipeline and ColumnTransformer use this feature and define the default style\n",
       "- Estimators will overwrite some part of the style using the `sk-estimator` class\n",
       "*/\n",
       "\n",
       "/* Pipeline and ColumnTransformer style (default) */\n",
       "\n",
       "#sk-container-id-1 div.sk-toggleable {\n",
       "  /* Default theme specific background. It is overwritten whether we have a\n",
       "  specific estimator or a Pipeline/ColumnTransformer */\n",
       "  background-color: var(--sklearn-color-background);\n",
       "}\n",
       "\n",
       "/* Toggleable label */\n",
       "#sk-container-id-1 label.sk-toggleable__label {\n",
       "  cursor: pointer;\n",
       "  display: block;\n",
       "  width: 100%;\n",
       "  margin-bottom: 0;\n",
       "  padding: 0.5em;\n",
       "  box-sizing: border-box;\n",
       "  text-align: center;\n",
       "}\n",
       "\n",
       "#sk-container-id-1 label.sk-toggleable__label-arrow:before {\n",
       "  /* Arrow on the left of the label */\n",
       "  content: \"▸\";\n",
       "  float: left;\n",
       "  margin-right: 0.25em;\n",
       "  color: var(--sklearn-color-icon);\n",
       "}\n",
       "\n",
       "#sk-container-id-1 label.sk-toggleable__label-arrow:hover:before {\n",
       "  color: var(--sklearn-color-text);\n",
       "}\n",
       "\n",
       "/* Toggleable content - dropdown */\n",
       "\n",
       "#sk-container-id-1 div.sk-toggleable__content {\n",
       "  max-height: 0;\n",
       "  max-width: 0;\n",
       "  overflow: hidden;\n",
       "  text-align: left;\n",
       "  /* unfitted */\n",
       "  background-color: var(--sklearn-color-unfitted-level-0);\n",
       "}\n",
       "\n",
       "#sk-container-id-1 div.sk-toggleable__content.fitted {\n",
       "  /* fitted */\n",
       "  background-color: var(--sklearn-color-fitted-level-0);\n",
       "}\n",
       "\n",
       "#sk-container-id-1 div.sk-toggleable__content pre {\n",
       "  margin: 0.2em;\n",
       "  border-radius: 0.25em;\n",
       "  color: var(--sklearn-color-text);\n",
       "  /* unfitted */\n",
       "  background-color: var(--sklearn-color-unfitted-level-0);\n",
       "}\n",
       "\n",
       "#sk-container-id-1 div.sk-toggleable__content.fitted pre {\n",
       "  /* unfitted */\n",
       "  background-color: var(--sklearn-color-fitted-level-0);\n",
       "}\n",
       "\n",
       "#sk-container-id-1 input.sk-toggleable__control:checked~div.sk-toggleable__content {\n",
       "  /* Expand drop-down */\n",
       "  max-height: 200px;\n",
       "  max-width: 100%;\n",
       "  overflow: auto;\n",
       "}\n",
       "\n",
       "#sk-container-id-1 input.sk-toggleable__control:checked~label.sk-toggleable__label-arrow:before {\n",
       "  content: \"▾\";\n",
       "}\n",
       "\n",
       "/* Pipeline/ColumnTransformer-specific style */\n",
       "\n",
       "#sk-container-id-1 div.sk-label input.sk-toggleable__control:checked~label.sk-toggleable__label {\n",
       "  color: var(--sklearn-color-text);\n",
       "  background-color: var(--sklearn-color-unfitted-level-2);\n",
       "}\n",
       "\n",
       "#sk-container-id-1 div.sk-label.fitted input.sk-toggleable__control:checked~label.sk-toggleable__label {\n",
       "  background-color: var(--sklearn-color-fitted-level-2);\n",
       "}\n",
       "\n",
       "/* Estimator-specific style */\n",
       "\n",
       "/* Colorize estimator box */\n",
       "#sk-container-id-1 div.sk-estimator input.sk-toggleable__control:checked~label.sk-toggleable__label {\n",
       "  /* unfitted */\n",
       "  background-color: var(--sklearn-color-unfitted-level-2);\n",
       "}\n",
       "\n",
       "#sk-container-id-1 div.sk-estimator.fitted input.sk-toggleable__control:checked~label.sk-toggleable__label {\n",
       "  /* fitted */\n",
       "  background-color: var(--sklearn-color-fitted-level-2);\n",
       "}\n",
       "\n",
       "#sk-container-id-1 div.sk-label label.sk-toggleable__label,\n",
       "#sk-container-id-1 div.sk-label label {\n",
       "  /* The background is the default theme color */\n",
       "  color: var(--sklearn-color-text-on-default-background);\n",
       "}\n",
       "\n",
       "/* On hover, darken the color of the background */\n",
       "#sk-container-id-1 div.sk-label:hover label.sk-toggleable__label {\n",
       "  color: var(--sklearn-color-text);\n",
       "  background-color: var(--sklearn-color-unfitted-level-2);\n",
       "}\n",
       "\n",
       "/* Label box, darken color on hover, fitted */\n",
       "#sk-container-id-1 div.sk-label.fitted:hover label.sk-toggleable__label.fitted {\n",
       "  color: var(--sklearn-color-text);\n",
       "  background-color: var(--sklearn-color-fitted-level-2);\n",
       "}\n",
       "\n",
       "/* Estimator label */\n",
       "\n",
       "#sk-container-id-1 div.sk-label label {\n",
       "  font-family: monospace;\n",
       "  font-weight: bold;\n",
       "  display: inline-block;\n",
       "  line-height: 1.2em;\n",
       "}\n",
       "\n",
       "#sk-container-id-1 div.sk-label-container {\n",
       "  text-align: center;\n",
       "}\n",
       "\n",
       "/* Estimator-specific */\n",
       "#sk-container-id-1 div.sk-estimator {\n",
       "  font-family: monospace;\n",
       "  border: 1px dotted var(--sklearn-color-border-box);\n",
       "  border-radius: 0.25em;\n",
       "  box-sizing: border-box;\n",
       "  margin-bottom: 0.5em;\n",
       "  /* unfitted */\n",
       "  background-color: var(--sklearn-color-unfitted-level-0);\n",
       "}\n",
       "\n",
       "#sk-container-id-1 div.sk-estimator.fitted {\n",
       "  /* fitted */\n",
       "  background-color: var(--sklearn-color-fitted-level-0);\n",
       "}\n",
       "\n",
       "/* on hover */\n",
       "#sk-container-id-1 div.sk-estimator:hover {\n",
       "  /* unfitted */\n",
       "  background-color: var(--sklearn-color-unfitted-level-2);\n",
       "}\n",
       "\n",
       "#sk-container-id-1 div.sk-estimator.fitted:hover {\n",
       "  /* fitted */\n",
       "  background-color: var(--sklearn-color-fitted-level-2);\n",
       "}\n",
       "\n",
       "/* Specification for estimator info (e.g. \"i\" and \"?\") */\n",
       "\n",
       "/* Common style for \"i\" and \"?\" */\n",
       "\n",
       ".sk-estimator-doc-link,\n",
       "a:link.sk-estimator-doc-link,\n",
       "a:visited.sk-estimator-doc-link {\n",
       "  float: right;\n",
       "  font-size: smaller;\n",
       "  line-height: 1em;\n",
       "  font-family: monospace;\n",
       "  background-color: var(--sklearn-color-background);\n",
       "  border-radius: 1em;\n",
       "  height: 1em;\n",
       "  width: 1em;\n",
       "  text-decoration: none !important;\n",
       "  margin-left: 1ex;\n",
       "  /* unfitted */\n",
       "  border: var(--sklearn-color-unfitted-level-1) 1pt solid;\n",
       "  color: var(--sklearn-color-unfitted-level-1);\n",
       "}\n",
       "\n",
       ".sk-estimator-doc-link.fitted,\n",
       "a:link.sk-estimator-doc-link.fitted,\n",
       "a:visited.sk-estimator-doc-link.fitted {\n",
       "  /* fitted */\n",
       "  border: var(--sklearn-color-fitted-level-1) 1pt solid;\n",
       "  color: var(--sklearn-color-fitted-level-1);\n",
       "}\n",
       "\n",
       "/* On hover */\n",
       "div.sk-estimator:hover .sk-estimator-doc-link:hover,\n",
       ".sk-estimator-doc-link:hover,\n",
       "div.sk-label-container:hover .sk-estimator-doc-link:hover,\n",
       ".sk-estimator-doc-link:hover {\n",
       "  /* unfitted */\n",
       "  background-color: var(--sklearn-color-unfitted-level-3);\n",
       "  color: var(--sklearn-color-background);\n",
       "  text-decoration: none;\n",
       "}\n",
       "\n",
       "div.sk-estimator.fitted:hover .sk-estimator-doc-link.fitted:hover,\n",
       ".sk-estimator-doc-link.fitted:hover,\n",
       "div.sk-label-container:hover .sk-estimator-doc-link.fitted:hover,\n",
       ".sk-estimator-doc-link.fitted:hover {\n",
       "  /* fitted */\n",
       "  background-color: var(--sklearn-color-fitted-level-3);\n",
       "  color: var(--sklearn-color-background);\n",
       "  text-decoration: none;\n",
       "}\n",
       "\n",
       "/* Span, style for the box shown on hovering the info icon */\n",
       ".sk-estimator-doc-link span {\n",
       "  display: none;\n",
       "  z-index: 9999;\n",
       "  position: relative;\n",
       "  font-weight: normal;\n",
       "  right: .2ex;\n",
       "  padding: .5ex;\n",
       "  margin: .5ex;\n",
       "  width: min-content;\n",
       "  min-width: 20ex;\n",
       "  max-width: 50ex;\n",
       "  color: var(--sklearn-color-text);\n",
       "  box-shadow: 2pt 2pt 4pt #999;\n",
       "  /* unfitted */\n",
       "  background: var(--sklearn-color-unfitted-level-0);\n",
       "  border: .5pt solid var(--sklearn-color-unfitted-level-3);\n",
       "}\n",
       "\n",
       ".sk-estimator-doc-link.fitted span {\n",
       "  /* fitted */\n",
       "  background: var(--sklearn-color-fitted-level-0);\n",
       "  border: var(--sklearn-color-fitted-level-3);\n",
       "}\n",
       "\n",
       ".sk-estimator-doc-link:hover span {\n",
       "  display: block;\n",
       "}\n",
       "\n",
       "/* \"?\"-specific style due to the `<a>` HTML tag */\n",
       "\n",
       "#sk-container-id-1 a.estimator_doc_link {\n",
       "  float: right;\n",
       "  font-size: 1rem;\n",
       "  line-height: 1em;\n",
       "  font-family: monospace;\n",
       "  background-color: var(--sklearn-color-background);\n",
       "  border-radius: 1rem;\n",
       "  height: 1rem;\n",
       "  width: 1rem;\n",
       "  text-decoration: none;\n",
       "  /* unfitted */\n",
       "  color: var(--sklearn-color-unfitted-level-1);\n",
       "  border: var(--sklearn-color-unfitted-level-1) 1pt solid;\n",
       "}\n",
       "\n",
       "#sk-container-id-1 a.estimator_doc_link.fitted {\n",
       "  /* fitted */\n",
       "  border: var(--sklearn-color-fitted-level-1) 1pt solid;\n",
       "  color: var(--sklearn-color-fitted-level-1);\n",
       "}\n",
       "\n",
       "/* On hover */\n",
       "#sk-container-id-1 a.estimator_doc_link:hover {\n",
       "  /* unfitted */\n",
       "  background-color: var(--sklearn-color-unfitted-level-3);\n",
       "  color: var(--sklearn-color-background);\n",
       "  text-decoration: none;\n",
       "}\n",
       "\n",
       "#sk-container-id-1 a.estimator_doc_link.fitted:hover {\n",
       "  /* fitted */\n",
       "  background-color: var(--sklearn-color-fitted-level-3);\n",
       "}\n",
       "</style><div id=\"sk-container-id-1\" class=\"sk-top-container\"><div class=\"sk-text-repr-fallback\"><pre>LogisticRegression()</pre><b>In a Jupyter environment, please rerun this cell to show the HTML representation or trust the notebook. <br />On GitHub, the HTML representation is unable to render, please try loading this page with nbviewer.org.</b></div><div class=\"sk-container\" hidden><div class=\"sk-item\"><div class=\"sk-estimator fitted sk-toggleable\"><input class=\"sk-toggleable__control sk-hidden--visually\" id=\"sk-estimator-id-1\" type=\"checkbox\" checked><label for=\"sk-estimator-id-1\" class=\"sk-toggleable__label fitted sk-toggleable__label-arrow fitted\">&nbsp;&nbsp;LogisticRegression<a class=\"sk-estimator-doc-link fitted\" rel=\"noreferrer\" target=\"_blank\" href=\"https://scikit-learn.org/1.5/modules/generated/sklearn.linear_model.LogisticRegression.html\">?<span>Documentation for LogisticRegression</span></a><span class=\"sk-estimator-doc-link fitted\">i<span>Fitted</span></span></label><div class=\"sk-toggleable__content fitted\"><pre>LogisticRegression()</pre></div> </div></div></div></div>"
      ],
      "text/plain": [
       "LogisticRegression()"
      ]
     },
     "execution_count": 45,
     "metadata": {},
     "output_type": "execute_result"
    }
   ],
   "source": [
    "LR_model.fit(X_train , y_train)"
   ]
  },
  {
   "cell_type": "code",
   "execution_count": 46,
   "id": "3f5ca184-6bc2-4aa2-ac18-96610cf39b43",
   "metadata": {
    "id": "3f5ca184-6bc2-4aa2-ac18-96610cf39b43"
   },
   "outputs": [],
   "source": [
    "y_pred = LR_model.predict(X_test)"
   ]
  },
  {
   "cell_type": "code",
   "execution_count": 47,
   "id": "a49d0b78-fc1e-4952-a2c1-7d75b0ee4afe",
   "metadata": {
    "colab": {
     "base_uri": "https://localhost:8080/"
    },
    "id": "a49d0b78-fc1e-4952-a2c1-7d75b0ee4afe",
    "outputId": "bdd1f8a9-7923-43c1-f6f7-29e0855b8450",
    "scrolled": true
   },
   "outputs": [
    {
     "name": "stdout",
     "output_type": "stream",
     "text": [
      "[[0. 0.]\n",
      " [0. 0.]\n",
      " [0. 0.]\n",
      " ...\n",
      " [1. 1.]\n",
      " [1. 1.]\n",
      " [0. 0.]]\n"
     ]
    }
   ],
   "source": [
    "print(np.concatenate((y_pred.reshape(len(y_pred),1),y_test.reshape(len(y_test),1)),1))"
   ]
  },
  {
   "cell_type": "markdown",
   "id": "94882b86-1020-413a-b135-9707a51e0776",
   "metadata": {
    "id": "94882b86-1020-413a-b135-9707a51e0776"
   },
   "source": [
    "# model evaluation"
   ]
  },
  {
   "cell_type": "code",
   "execution_count": 48,
   "id": "4fca92a0-1796-464e-8b2f-047963caf2ba",
   "metadata": {
    "id": "4fca92a0-1796-464e-8b2f-047963caf2ba"
   },
   "outputs": [],
   "source": [
    "from sklearn.metrics import confusion_matrix , accuracy_score"
   ]
  },
  {
   "cell_type": "code",
   "execution_count": 49,
   "id": "a730ca58-06c2-49ec-b12e-c6ee89a388ea",
   "metadata": {
    "colab": {
     "base_uri": "https://localhost:8080/"
    },
    "id": "a730ca58-06c2-49ec-b12e-c6ee89a388ea",
    "outputId": "5788fd9f-b91e-48f7-e6c3-93b647e6c604"
   },
   "outputs": [
    {
     "data": {
      "text/plain": [
       "array([[432,  22],\n",
       "       [ 30, 444]], dtype=int64)"
      ]
     },
     "execution_count": 49,
     "metadata": {},
     "output_type": "execute_result"
    }
   ],
   "source": [
    "cm = confusion_matrix(y_test , y_pred)\n",
    "cm"
   ]
  },
  {
   "cell_type": "code",
   "execution_count": 50,
   "id": "412ac3b4-6290-44d0-8883-5f0a99543add",
   "metadata": {
    "colab": {
     "base_uri": "https://localhost:8080/"
    },
    "id": "412ac3b4-6290-44d0-8883-5f0a99543add",
    "outputId": "3f70a5d3-dd3c-4d57-aaac-935373c84730"
   },
   "outputs": [
    {
     "data": {
      "text/plain": [
       "0.9439655172413793"
      ]
     },
     "execution_count": 50,
     "metadata": {},
     "output_type": "execute_result"
    }
   ],
   "source": [
    "acu_score = accuracy_score(y_test , y_pred)\n",
    "acu_score"
   ]
  },
  {
   "cell_type": "markdown",
   "id": "1f9a5bf7-3e64-4dd4-87cb-41bb599a9805",
   "metadata": {
    "id": "1f9a5bf7-3e64-4dd4-87cb-41bb599a9805"
   },
   "source": []
  },
  {
   "cell_type": "code",
   "execution_count": null,
   "id": "ddf6a4eb-e2e8-4111-978e-0d60ecb70fd5",
   "metadata": {
    "id": "ddf6a4eb-e2e8-4111-978e-0d60ecb70fd5"
   },
   "outputs": [],
   "source": []
  },
  {
   "cell_type": "code",
   "execution_count": 51,
   "id": "xVtUWiw6cyPo",
   "metadata": {
    "colab": {
     "base_uri": "https://localhost:8080/",
     "height": 476
    },
    "id": "xVtUWiw6cyPo",
    "outputId": "3f0cba4e-441a-487f-b156-52869e167255"
   },
   "outputs": [
    {
     "data": {
      "text/plain": [
       "<Axes: xlabel='Liked', ylabel='count of letter'>"
      ]
     },
     "execution_count": 51,
     "metadata": {},
     "output_type": "execute_result"
    },
    {
     "data": {
      "image/png": "[encoded data removed]",
      "text/plain": [
       "<Figure size 640x480 with 1 Axes>"
      ]
     },
     "metadata": {},
     "output_type": "display_data"
    }
   ],
   "source": [
    "sns.violinplot(x=data[\"Liked\"], y=data[\"count of letter\"])"
   ]
  },
  {
   "cell_type": "code",
   "execution_count": null,
   "id": "IU88nbtzcyfB",
   "metadata": {
    "id": "IU88nbtzcyfB"
   },
   "outputs": [],
   "source": []
  },
  {
   "cell_type": "code",
   "execution_count": null,
   "id": "JVvBVUmjcysD",
   "metadata": {
    "id": "JVvBVUmjcysD"
   },
   "outputs": [],
   "source": []
  },
  {
   "cell_type": "code",
   "execution_count": 52,
   "id": "196b0db8-30dc-4eea-a41a-f51e1e2c19a9",
   "metadata": {
    "colab": {
     "base_uri": "https://localhost:8080/"
    },
    "id": "196b0db8-30dc-4eea-a41a-f51e1e2c19a9",
    "outputId": "ce9437fd-ff49-4a6e-861b-89cf444fbf64"
   },
   "outputs": [
    {
     "name": "stdout",
     "output_type": "stream",
     "text": [
      "RangeIndex(start=2783, stop=3711, step=1)\n"
     ]
    }
   ],
   "source": [
    "X_test_df = pd.DataFrame(X_test, index=data.index[y_train.shape[0]:])\n",
    "test_indices = X_test_df.index\n",
    "print(test_indices)"
   ]
  },
  {
   "cell_type": "code",
   "execution_count": 53,
   "id": "inRIEwcSgPpp",
   "metadata": {
    "id": "inRIEwcSgPpp"
   },
   "outputs": [],
   "source": [
    "v =data.iloc[test_indices[0:]]"
   ]
  },
  {
   "cell_type": "code",
   "execution_count": 54,
   "id": "EQbSmwFYgPwD",
   "metadata": {
    "colab": {
     "base_uri": "https://localhost:8080/",
     "height": 452
    },
    "id": "EQbSmwFYgPwD",
    "outputId": "a09a29b0-2557-47a9-f298-a656ca43093b"
   },
   "outputs": [
    {
     "data": {
      "text/plain": [
       "<Axes: ylabel='count of letter'>"
      ]
     },
     "execution_count": 54,
     "metadata": {},
     "output_type": "execute_result"
    },
    {
     "data": {
      "image/png": "[encoded data removed]",
      "text/plain": [
       "<Figure size 640x480 with 1 Axes>"
      ]
     },
     "metadata": {},
     "output_type": "display_data"
    }
   ],
   "source": [
    "sns.violinplot(x=y_pred, y= v[\"count of letter\"])"
   ]
  },
  {
   "cell_type": "code",
   "execution_count": null,
   "id": "F00Mf4U-gP7D",
   "metadata": {
    "colab": {
     "base_uri": "https://localhost:8080/",
     "height": 476
    },
    "id": "F00Mf4U-gP7D",
    "outputId": "dc0dd5f5-4c93-4a56-f2c8-8dc2b26114e5"
   },
   "outputs": [],
   "source": []
  },
  {
   "cell_type": "code",
   "execution_count": null,
   "id": "ihqw1xtOgQOP",
   "metadata": {
    "id": "ihqw1xtOgQOP"
   },
   "outputs": [],
   "source": []
  },
  {
   "cell_type": "code",
   "execution_count": 55,
   "id": "W0YjgfpZiADH",
   "metadata": {
    "colab": {
     "base_uri": "https://localhost:8080/",
     "height": 423
    },
    "id": "W0YjgfpZiADH",
    "outputId": "880c8087-0385-4a46-bd31-41fc042942de"
   },
   "outputs": [
    {
     "data": {
      "text/html": [
       "<div>\n",
       "<style scoped>\n",
       "    .dataframe tbody tr th:only-of-type {\n",
       "        vertical-align: middle;\n",
       "    }\n",
       "\n",
       "    .dataframe tbody tr th {\n",
       "        vertical-align: top;\n",
       "    }\n",
       "\n",
       "    .dataframe thead th {\n",
       "        text-align: right;\n",
       "    }\n",
       "</style>\n",
       "<table border=\"1\" class=\"dataframe\">\n",
       "  <thead>\n",
       "    <tr style=\"text-align: right;\">\n",
       "      <th></th>\n",
       "      <th>Review</th>\n",
       "      <th>Liked</th>\n",
       "      <th>count of letter</th>\n",
       "    </tr>\n",
       "  </thead>\n",
       "  <tbody>\n",
       "    <tr>\n",
       "      <th>2783</th>\n",
       "      <td>This venue lacked style!!</td>\n",
       "      <td>0.0</td>\n",
       "      <td>25</td>\n",
       "    </tr>\n",
       "    <tr>\n",
       "      <th>2784</th>\n",
       "      <td>The sangria was about half of a glass wine ful...</td>\n",
       "      <td>0.0</td>\n",
       "      <td>72</td>\n",
       "    </tr>\n",
       "    <tr>\n",
       "      <th>2785</th>\n",
       "      <td>Don't bother coming here.</td>\n",
       "      <td>0.0</td>\n",
       "      <td>25</td>\n",
       "    </tr>\n",
       "    <tr>\n",
       "      <th>2786</th>\n",
       "      <td>The meat was pretty dry, I had the sliced bris...</td>\n",
       "      <td>0.0</td>\n",
       "      <td>66</td>\n",
       "    </tr>\n",
       "    <tr>\n",
       "      <th>2787</th>\n",
       "      <td>The building itself seems pretty neat, the bat...</td>\n",
       "      <td>0.0</td>\n",
       "      <td>100</td>\n",
       "    </tr>\n",
       "    <tr>\n",
       "      <th>...</th>\n",
       "      <td>...</td>\n",
       "      <td>...</td>\n",
       "      <td>...</td>\n",
       "    </tr>\n",
       "    <tr>\n",
       "      <th>3706</th>\n",
       "      <td>I dressed up to be treated so rudely!</td>\n",
       "      <td>0.0</td>\n",
       "      <td>37</td>\n",
       "    </tr>\n",
       "    <tr>\n",
       "      <th>3707</th>\n",
       "      <td>It was probably dirt.</td>\n",
       "      <td>0.0</td>\n",
       "      <td>21</td>\n",
       "    </tr>\n",
       "    <tr>\n",
       "      <th>3708</th>\n",
       "      <td>Love this venue, hits the spot when I want som...</td>\n",
       "      <td>1.0</td>\n",
       "      <td>99</td>\n",
       "    </tr>\n",
       "    <tr>\n",
       "      <th>3709</th>\n",
       "      <td>I ordered the Lemon raspberry ice cocktail whi...</td>\n",
       "      <td>1.0</td>\n",
       "      <td>69</td>\n",
       "    </tr>\n",
       "    <tr>\n",
       "      <th>3710</th>\n",
       "      <td>The food sucked, which we expected but it suck...</td>\n",
       "      <td>0.0</td>\n",
       "      <td>82</td>\n",
       "    </tr>\n",
       "  </tbody>\n",
       "</table>\n",
       "<p>928 rows × 3 columns</p>\n",
       "</div>"
      ],
      "text/plain": [
       "                                                 Review  Liked  \\\n",
       "2783                          This venue lacked style!!    0.0   \n",
       "2784  The sangria was about half of a glass wine ful...    0.0   \n",
       "2785                          Don't bother coming here.    0.0   \n",
       "2786  The meat was pretty dry, I had the sliced bris...    0.0   \n",
       "2787  The building itself seems pretty neat, the bat...    0.0   \n",
       "...                                                 ...    ...   \n",
       "3706              I dressed up to be treated so rudely!    0.0   \n",
       "3707                              It was probably dirt.    0.0   \n",
       "3708  Love this venue, hits the spot when I want som...    1.0   \n",
       "3709  I ordered the Lemon raspberry ice cocktail whi...    1.0   \n",
       "3710  The food sucked, which we expected but it suck...    0.0   \n",
       "\n",
       "      count of letter  \n",
       "2783               25  \n",
       "2784               72  \n",
       "2785               25  \n",
       "2786               66  \n",
       "2787              100  \n",
       "...               ...  \n",
       "3706               37  \n",
       "3707               21  \n",
       "3708               99  \n",
       "3709               69  \n",
       "3710               82  \n",
       "\n",
       "[928 rows x 3 columns]"
      ]
     },
     "execution_count": 55,
     "metadata": {},
     "output_type": "execute_result"
    }
   ],
   "source": [
    "v"
   ]
  },
  {
   "cell_type": "code",
   "execution_count": 56,
   "id": "qC8CW-lHiAI6",
   "metadata": {
    "colab": {
     "base_uri": "https://localhost:8080/"
    },
    "id": "qC8CW-lHiAI6",
    "outputId": "6faa5f1a-9416-48c2-ca51-d14beb43b6ad"
   },
   "outputs": [],
   "source": [
    "v[\"prediction\"] = y_pred"
   ]
  },
  {
   "cell_type": "code",
   "execution_count": 57,
   "id": "A_zi1YSmiAOQ",
   "metadata": {
    "colab": {
     "base_uri": "https://localhost:8080/",
     "height": 423
    },
    "id": "A_zi1YSmiAOQ",
    "outputId": "5fdfbd23-c0f9-4b2f-8c7b-8d3a51e1240f"
   },
   "outputs": [
    {
     "data": {
      "text/html": [
       "<div>\n",
       "<style scoped>\n",
       "    .dataframe tbody tr th:only-of-type {\n",
       "        vertical-align: middle;\n",
       "    }\n",
       "\n",
       "    .dataframe tbody tr th {\n",
       "        vertical-align: top;\n",
       "    }\n",
       "\n",
       "    .dataframe thead th {\n",
       "        text-align: right;\n",
       "    }\n",
       "</style>\n",
       "<table border=\"1\" class=\"dataframe\">\n",
       "  <thead>\n",
       "    <tr style=\"text-align: right;\">\n",
       "      <th></th>\n",
       "      <th>Review</th>\n",
       "      <th>Liked</th>\n",
       "      <th>count of letter</th>\n",
       "      <th>prediction</th>\n",
       "    </tr>\n",
       "  </thead>\n",
       "  <tbody>\n",
       "    <tr>\n",
       "      <th>2783</th>\n",
       "      <td>This venue lacked style!!</td>\n",
       "      <td>0.0</td>\n",
       "      <td>25</td>\n",
       "      <td>0.0</td>\n",
       "    </tr>\n",
       "    <tr>\n",
       "      <th>2784</th>\n",
       "      <td>The sangria was about half of a glass wine ful...</td>\n",
       "      <td>0.0</td>\n",
       "      <td>72</td>\n",
       "      <td>0.0</td>\n",
       "    </tr>\n",
       "    <tr>\n",
       "      <th>2785</th>\n",
       "      <td>Don't bother coming here.</td>\n",
       "      <td>0.0</td>\n",
       "      <td>25</td>\n",
       "      <td>0.0</td>\n",
       "    </tr>\n",
       "    <tr>\n",
       "      <th>2786</th>\n",
       "      <td>The meat was pretty dry, I had the sliced bris...</td>\n",
       "      <td>0.0</td>\n",
       "      <td>66</td>\n",
       "      <td>0.0</td>\n",
       "    </tr>\n",
       "    <tr>\n",
       "      <th>2787</th>\n",
       "      <td>The building itself seems pretty neat, the bat...</td>\n",
       "      <td>0.0</td>\n",
       "      <td>100</td>\n",
       "      <td>0.0</td>\n",
       "    </tr>\n",
       "    <tr>\n",
       "      <th>...</th>\n",
       "      <td>...</td>\n",
       "      <td>...</td>\n",
       "      <td>...</td>\n",
       "      <td>...</td>\n",
       "    </tr>\n",
       "    <tr>\n",
       "      <th>3706</th>\n",
       "      <td>I dressed up to be treated so rudely!</td>\n",
       "      <td>0.0</td>\n",
       "      <td>37</td>\n",
       "      <td>0.0</td>\n",
       "    </tr>\n",
       "    <tr>\n",
       "      <th>3707</th>\n",
       "      <td>It was probably dirt.</td>\n",
       "      <td>0.0</td>\n",
       "      <td>21</td>\n",
       "      <td>0.0</td>\n",
       "    </tr>\n",
       "    <tr>\n",
       "      <th>3708</th>\n",
       "      <td>Love this venue, hits the spot when I want som...</td>\n",
       "      <td>1.0</td>\n",
       "      <td>99</td>\n",
       "      <td>1.0</td>\n",
       "    </tr>\n",
       "    <tr>\n",
       "      <th>3709</th>\n",
       "      <td>I ordered the Lemon raspberry ice cocktail whi...</td>\n",
       "      <td>1.0</td>\n",
       "      <td>69</td>\n",
       "      <td>1.0</td>\n",
       "    </tr>\n",
       "    <tr>\n",
       "      <th>3710</th>\n",
       "      <td>The food sucked, which we expected but it suck...</td>\n",
       "      <td>0.0</td>\n",
       "      <td>82</td>\n",
       "      <td>0.0</td>\n",
       "    </tr>\n",
       "  </tbody>\n",
       "</table>\n",
       "<p>928 rows × 4 columns</p>\n",
       "</div>"
      ],
      "text/plain": [
       "                                                 Review  Liked  \\\n",
       "2783                          This venue lacked style!!    0.0   \n",
       "2784  The sangria was about half of a glass wine ful...    0.0   \n",
       "2785                          Don't bother coming here.    0.0   \n",
       "2786  The meat was pretty dry, I had the sliced bris...    0.0   \n",
       "2787  The building itself seems pretty neat, the bat...    0.0   \n",
       "...                                                 ...    ...   \n",
       "3706              I dressed up to be treated so rudely!    0.0   \n",
       "3707                              It was probably dirt.    0.0   \n",
       "3708  Love this venue, hits the spot when I want som...    1.0   \n",
       "3709  I ordered the Lemon raspberry ice cocktail whi...    1.0   \n",
       "3710  The food sucked, which we expected but it suck...    0.0   \n",
       "\n",
       "      count of letter  prediction  \n",
       "2783               25         0.0  \n",
       "2784               72         0.0  \n",
       "2785               25         0.0  \n",
       "2786               66         0.0  \n",
       "2787              100         0.0  \n",
       "...               ...         ...  \n",
       "3706               37         0.0  \n",
       "3707               21         0.0  \n",
       "3708               99         1.0  \n",
       "3709               69         1.0  \n",
       "3710               82         0.0  \n",
       "\n",
       "[928 rows x 4 columns]"
      ]
     },
     "execution_count": 57,
     "metadata": {},
     "output_type": "execute_result"
    }
   ],
   "source": [
    "v"
   ]
  },
  {
   "cell_type": "code",
   "execution_count": null,
   "id": "8w9mkKSniASQ",
   "metadata": {
    "colab": {
     "base_uri": "https://localhost:8080/",
     "height": 346
    },
    "id": "8w9mkKSniASQ",
    "outputId": "3f757e66-8e8f-43de-c79a-cd562a75d1b1"
   },
   "outputs": [],
   "source": []
  },
  {
   "cell_type": "code",
   "execution_count": 58,
   "id": "DIiL5h6HlAPL",
   "metadata": {
    "colab": {
     "base_uri": "https://localhost:8080/"
    },
    "id": "DIiL5h6HlAPL",
    "outputId": "1db78319-5fc8-4c8d-e214-9c51969e7b00"
   },
   "outputs": [],
   "source": [
    "v[\"Xnor\"]=range(len(v))\n",
    "\n"
   ]
  },
  {
   "cell_type": "code",
   "execution_count": 59,
   "id": "8d7ed98d",
   "metadata": {},
   "outputs": [],
   "source": [
    "v[\"Xnor\"] = 0 \n",
    "v.loc[v[\"prediction\"] == v[\"Liked\"], \"Xnor\"] = 1  \n"
   ]
  },
  {
   "cell_type": "code",
   "execution_count": 60,
   "id": "G8cXKpJYl8oF",
   "metadata": {
    "colab": {
     "base_uri": "https://localhost:8080/",
     "height": 825
    },
    "id": "G8cXKpJYl8oF",
    "outputId": "b2dbbfc0-9d24-4517-d93c-949eb3f802c9"
   },
   "outputs": [
    {
     "data": {
      "text/html": [
       "<div>\n",
       "<style scoped>\n",
       "    .dataframe tbody tr th:only-of-type {\n",
       "        vertical-align: middle;\n",
       "    }\n",
       "\n",
       "    .dataframe tbody tr th {\n",
       "        vertical-align: top;\n",
       "    }\n",
       "\n",
       "    .dataframe thead th {\n",
       "        text-align: right;\n",
       "    }\n",
       "</style>\n",
       "<table border=\"1\" class=\"dataframe\">\n",
       "  <thead>\n",
       "    <tr style=\"text-align: right;\">\n",
       "      <th></th>\n",
       "      <th>Review</th>\n",
       "      <th>Liked</th>\n",
       "      <th>count of letter</th>\n",
       "      <th>prediction</th>\n",
       "      <th>Xnor</th>\n",
       "    </tr>\n",
       "  </thead>\n",
       "  <tbody>\n",
       "    <tr>\n",
       "      <th>2783</th>\n",
       "      <td>This venue lacked style!!</td>\n",
       "      <td>0.0</td>\n",
       "      <td>25</td>\n",
       "      <td>0.0</td>\n",
       "      <td>1</td>\n",
       "    </tr>\n",
       "    <tr>\n",
       "      <th>2784</th>\n",
       "      <td>The sangria was about half of a glass wine ful...</td>\n",
       "      <td>0.0</td>\n",
       "      <td>72</td>\n",
       "      <td>0.0</td>\n",
       "      <td>1</td>\n",
       "    </tr>\n",
       "    <tr>\n",
       "      <th>2785</th>\n",
       "      <td>Don't bother coming here.</td>\n",
       "      <td>0.0</td>\n",
       "      <td>25</td>\n",
       "      <td>0.0</td>\n",
       "      <td>1</td>\n",
       "    </tr>\n",
       "    <tr>\n",
       "      <th>2786</th>\n",
       "      <td>The meat was pretty dry, I had the sliced bris...</td>\n",
       "      <td>0.0</td>\n",
       "      <td>66</td>\n",
       "      <td>0.0</td>\n",
       "      <td>1</td>\n",
       "    </tr>\n",
       "    <tr>\n",
       "      <th>2787</th>\n",
       "      <td>The building itself seems pretty neat, the bat...</td>\n",
       "      <td>0.0</td>\n",
       "      <td>100</td>\n",
       "      <td>0.0</td>\n",
       "      <td>1</td>\n",
       "    </tr>\n",
       "    <tr>\n",
       "      <th>...</th>\n",
       "      <td>...</td>\n",
       "      <td>...</td>\n",
       "      <td>...</td>\n",
       "      <td>...</td>\n",
       "      <td>...</td>\n",
       "    </tr>\n",
       "    <tr>\n",
       "      <th>3706</th>\n",
       "      <td>I dressed up to be treated so rudely!</td>\n",
       "      <td>0.0</td>\n",
       "      <td>37</td>\n",
       "      <td>0.0</td>\n",
       "      <td>1</td>\n",
       "    </tr>\n",
       "    <tr>\n",
       "      <th>3707</th>\n",
       "      <td>It was probably dirt.</td>\n",
       "      <td>0.0</td>\n",
       "      <td>21</td>\n",
       "      <td>0.0</td>\n",
       "      <td>1</td>\n",
       "    </tr>\n",
       "    <tr>\n",
       "      <th>3708</th>\n",
       "      <td>Love this venue, hits the spot when I want som...</td>\n",
       "      <td>1.0</td>\n",
       "      <td>99</td>\n",
       "      <td>1.0</td>\n",
       "      <td>1</td>\n",
       "    </tr>\n",
       "    <tr>\n",
       "      <th>3709</th>\n",
       "      <td>I ordered the Lemon raspberry ice cocktail whi...</td>\n",
       "      <td>1.0</td>\n",
       "      <td>69</td>\n",
       "      <td>1.0</td>\n",
       "      <td>1</td>\n",
       "    </tr>\n",
       "    <tr>\n",
       "      <th>3710</th>\n",
       "      <td>The food sucked, which we expected but it suck...</td>\n",
       "      <td>0.0</td>\n",
       "      <td>82</td>\n",
       "      <td>0.0</td>\n",
       "      <td>1</td>\n",
       "    </tr>\n",
       "  </tbody>\n",
       "</table>\n",
       "<p>928 rows × 5 columns</p>\n",
       "</div>"
      ],
      "text/plain": [
       "                                                 Review  Liked  \\\n",
       "2783                          This venue lacked style!!    0.0   \n",
       "2784  The sangria was about half of a glass wine ful...    0.0   \n",
       "2785                          Don't bother coming here.    0.0   \n",
       "2786  The meat was pretty dry, I had the sliced bris...    0.0   \n",
       "2787  The building itself seems pretty neat, the bat...    0.0   \n",
       "...                                                 ...    ...   \n",
       "3706              I dressed up to be treated so rudely!    0.0   \n",
       "3707                              It was probably dirt.    0.0   \n",
       "3708  Love this venue, hits the spot when I want som...    1.0   \n",
       "3709  I ordered the Lemon raspberry ice cocktail whi...    1.0   \n",
       "3710  The food sucked, which we expected but it suck...    0.0   \n",
       "\n",
       "      count of letter  prediction  Xnor  \n",
       "2783               25         0.0     1  \n",
       "2784               72         0.0     1  \n",
       "2785               25         0.0     1  \n",
       "2786               66         0.0     1  \n",
       "2787              100         0.0     1  \n",
       "...               ...         ...   ...  \n",
       "3706               37         0.0     1  \n",
       "3707               21         0.0     1  \n",
       "3708               99         1.0     1  \n",
       "3709               69         1.0     1  \n",
       "3710               82         0.0     1  \n",
       "\n",
       "[928 rows x 5 columns]"
      ]
     },
     "execution_count": 60,
     "metadata": {},
     "output_type": "execute_result"
    }
   ],
   "source": [
    "v[\"Xnor\"][v[\"Xnor\"]>1]=0\n",
    "v"
   ]
  },
  {
   "cell_type": "code",
   "execution_count": 61,
   "id": "x45LE4KXr8VS",
   "metadata": {
    "colab": {
     "base_uri": "https://localhost:8080/",
     "height": 178
    },
    "id": "x45LE4KXr8VS",
    "outputId": "4bcb5c24-1fc6-4478-a11b-ffc1256e1d47"
   },
   "outputs": [
    {
     "data": {
      "text/plain": [
       "prediction\n",
       "0.0    462\n",
       "1.0    466\n",
       "Name: Review, dtype: int64"
      ]
     },
     "execution_count": 61,
     "metadata": {},
     "output_type": "execute_result"
    }
   ],
   "source": [
    "v.groupby(\"prediction\")[\"Review\"].count()"
   ]
  },
  {
   "cell_type": "code",
   "execution_count": 62,
   "id": "IKC03Uqer84d",
   "metadata": {
    "colab": {
     "base_uri": "https://localhost:8080/",
     "height": 178
    },
    "id": "IKC03Uqer84d",
    "outputId": "7df5088e-d2b3-4c44-996e-f56a2361142a"
   },
   "outputs": [
    {
     "data": {
      "text/plain": [
       "Liked\n",
       "0.0    491\n",
       "1.0    437\n",
       "Name: Review, dtype: int64"
      ]
     },
     "execution_count": 62,
     "metadata": {},
     "output_type": "execute_result"
    }
   ],
   "source": [
    "v.groupby(\"Liked\")[\"Review\"].count()"
   ]
  },
  {
   "cell_type": "code",
   "execution_count": null,
   "id": "6-kxkulQr9Dy",
   "metadata": {
    "id": "6-kxkulQr9Dy"
   },
   "outputs": [],
   "source": []
  },
  {
   "cell_type": "code",
   "execution_count": null,
   "id": "8AMQSfB7l80h",
   "metadata": {
    "colab": {
     "base_uri": "https://localhost:8080/",
     "height": 481
    },
    "id": "8AMQSfB7l80h",
    "outputId": "5c46dbd8-52d7-464e-d459-fa573777d727"
   },
   "outputs": [],
   "source": []
  },
  {
   "cell_type": "code",
   "execution_count": null,
   "id": "8jGrzxW5nCwP",
   "metadata": {
    "id": "8jGrzxW5nCwP"
   },
   "outputs": [],
   "source": []
  },
  {
   "cell_type": "code",
   "execution_count": null,
   "id": "d0Iyq5oWnC4T",
   "metadata": {
    "id": "d0Iyq5oWnC4T"
   },
   "outputs": [],
   "source": []
  },
  {
   "cell_type": "code",
   "execution_count": null,
   "id": "2Eu1ayitl869",
   "metadata": {
    "id": "2Eu1ayitl869"
   },
   "outputs": [],
   "source": []
  },
  {
   "cell_type": "code",
   "execution_count": null,
   "id": "Wwup1ccMjVWw",
   "metadata": {
    "id": "Wwup1ccMjVWw"
   },
   "outputs": [],
   "source": []
  },
  {
   "cell_type": "code",
   "execution_count": null,
   "id": "cgbZRtyWjVgr",
   "metadata": {
    "id": "cgbZRtyWjVgr"
   },
   "outputs": [],
   "source": []
  },
  {
   "cell_type": "code",
   "execution_count": 65,
   "id": "3a8d1e56-169f-4f2f-9589-6616583b1d59",
   "metadata": {
    "id": "3a8d1e56-169f-4f2f-9589-6616583b1d59"
   },
   "outputs": [],
   "source": [
    "def prepro(new_stat):\n",
    "    new_stat = re.sub('[^a-zA-Z]',\" \",new_stat)\n",
    "    new_stat = new_stat.lower()\n",
    "    new_stat = new_stat.split()\n",
    "    new_stat = [ word for word in new_stat if word not in stopwords.words('english')]\n",
    "    new_stat = ' '.join(new_stat)\n",
    "    return new_stat"
   ]
  },
  {
   "cell_type": "code",
   "execution_count": 66,
   "id": "2f781ae4-e1b9-497e-9bdf-cbaad2997482",
   "metadata": {
    "colab": {
     "base_uri": "https://localhost:8080/"
    },
    "id": "2f781ae4-e1b9-497e-9bdf-cbaad2997482",
    "outputId": "448354c7-e223-4b7f-9276-27cefc028dbe"
   },
   "outputs": [
    {
     "name": "stdout",
     "output_type": "stream",
     "text": [
      "enter review :the don't look good and the service were bad\n",
      "negative review\n"
     ]
    }
   ],
   "source": [
    "nnnew_review = input(\"enter review :\")\n",
    "prepro(nnnew_review)\n",
    "\n",
    "result = LR_model.predict(cv.transform([nnnew_review]).toarray())\n",
    "if result == 1:\n",
    "    print(\"positive review\")\n",
    "else:\n",
    "    print(\"negative review\")\n",
    "\n",
    "\n",
    "\n"
   ]
  },
  {
   "cell_type": "code",
   "execution_count": null,
   "id": "a77e1a83-05f7-49f2-a7be-3d2ea1c80e1d",
   "metadata": {
    "id": "a77e1a83-05f7-49f2-a7be-3d2ea1c80e1d"
   },
   "outputs": [],
   "source": []
  },
  {
   "cell_type": "code",
   "execution_count": null,
   "id": "Pu6WOFUNgaqI",
   "metadata": {
    "id": "Pu6WOFUNgaqI"
   },
   "outputs": [],
   "source": []
  },
  {
   "cell_type": "code",
   "execution_count": 65,
   "id": "2ozQhBhPit-8",
   "metadata": {
    "id": "2ozQhBhPit-8"
   },
   "outputs": [
    {
     "data": {
      "text/plain": [
       "['D:\\\\Ai\\\\DEPI\\\\Technical\\\\final project\\\\Sentiment_Analysis_DEPI.pkl']"
      ]
     },
     "execution_count": 65,
     "metadata": {},
     "output_type": "execute_result"
    }
   ],
   "source": [
    "import joblib\n",
    "\n",
    "joblib.dump(LR_model, r'D:\\Ai\\DEPI\\Technical\\final project\\Sentiment_Analysis_DEPI.pkl')\n"
   ]
  },
  {
   "cell_type": "code",
   "execution_count": null,
   "id": "989f4149",
   "metadata": {
    "id": "989f4149"
   },
   "outputs": [],
   "source": []
  },
  {
   "cell_type": "code",
   "execution_count": null,
   "id": "SsGwR9WdOogJ",
   "metadata": {
    "colab": {
     "base_uri": "https://localhost:8080/"
    },
    "id": "SsGwR9WdOogJ",
    "outputId": "04bbe315-d16b-4634-9f7c-c3a9fc9db8f3"
   },
   "outputs": [],
   "source": []
  },
  {
   "cell_type": "code",
   "execution_count": null,
   "id": "up9T2qCoZSHL",
   "metadata": {
    "id": "up9T2qCoZSHL"
   },
   "outputs": [],
   "source": []
  },
  {
   "cell_type": "code",
   "execution_count": null,
   "id": "3b6b1e55",
   "metadata": {},
   "outputs": [],
   "source": []
  },
  {
   "cell_type": "code",
   "execution_count": null,
   "id": "bad17d06",
   "metadata": {},
   "outputs": [],
   "source": []
  },
  {
   "cell_type": "code",
   "execution_count": null,
   "id": "a4bb8a12",
   "metadata": {},
   "outputs": [],
   "source": []
  }
 ],
 "metadata": {
  "colab": {
   "provenance": []
  },
  "kernelspec": {
   "display_name": "Python 3 (ipykernel)",
   "language": "python",
   "name": "python3"
  },
  "language_info": {
   "codemirror_mode": {
    "name": "ipython",
    "version": 3
   },
   "file_extension": ".py",
   "mimetype": "text/x-python",
   "name": "python",
   "nbconvert_exporter": "python",
   "pygments_lexer": "ipython3",
   "version": "3.11.7"
  }
 },
 "nbformat": 4,
 "nbformat_minor": 5
}
